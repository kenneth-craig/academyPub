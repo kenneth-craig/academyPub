{
  "nbformat": 4,
  "nbformat_minor": 0,
  "metadata": {
    "colab": {
      "name": "Untitled11.ipynb",
      "provenance": [],
      "authorship_tag": "ABX9TyPMoHAkbEx4flspfHoMTzqO",
      "include_colab_link": true
    },
    "kernelspec": {
      "name": "python3",
      "display_name": "Python 3"
    },
    "language_info": {
      "name": "python"
    }
  },
  "cells": [
    {
      "cell_type": "markdown",
      "metadata": {
        "id": "view-in-github",
        "colab_type": "text"
      },
      "source": [
        "<a href=\"https://colab.research.google.com/github/kenneth-craig/academyPub/blob/main/ML-Data%20Preparation.ipynb\" target=\"_parent\"><img src=\"https://colab.research.google.com/assets/colab-badge.svg\" alt=\"Open In Colab\"/></a>"
      ]
    },
    {
      "cell_type": "markdown",
      "source": [
        "# Data Preparation"
      ],
      "metadata": {
        "id": "8C7nm6mP8-AJ"
      }
    },
    {
      "cell_type": "markdown",
      "source": [
        "Chapter 4.3 Data Leakage"
      ],
      "metadata": {
        "id": "mevA-BaC9MR9"
      }
    },
    {
      "cell_type": "code",
      "execution_count": null,
      "metadata": {
        "colab": {
          "base_uri": "https://localhost:8080/"
        },
        "id": "mn4hxF5S8atf",
        "outputId": "d930abea-c86a-4d1e-f586-abb467c6ca7f"
      },
      "outputs": [
        {
          "output_type": "stream",
          "name": "stdout",
          "text": [
            "(1000, 20) (1000,)\n"
          ]
        }
      ],
      "source": [
        "# test classification dataset\n",
        "from sklearn.datasets import make_classification\n",
        "\n",
        "# Define Dataset\n",
        "X, y = make_classification(n_samples=1000, n_features=20, n_informative=15, n_redundant=5, random_state=7)\n",
        "\n",
        "# print shape\n",
        "print(X.shape, y.shape)\n"
      ]
    },
    {
      "cell_type": "markdown",
      "source": [
        "Chapter 4.4 Data Preaparation with k-fold Cross-Validation"
      ],
      "metadata": {
        "id": "S0XYbjIcGyUV"
      }
    },
    {
      "cell_type": "code",
      "source": [
        "# correct data preparation for model evaluation with k-fold cross-validation\n",
        "from numpy import mean\n",
        "from numpy import std\n",
        "from sklearn.datasets import make_classification\n",
        "from sklearn.model_selection import cross_val_score\n",
        "from sklearn.model_selection import RepeatedStratifiedKFold\n",
        "from sklearn.preprocessing import MinMaxScaler\n",
        "from sklearn.linear_model import LogisticRegression\n",
        "from sklearn.pipeline import Pipeline\n",
        "# define dataset\n",
        "X, y = make_classification(n_samples=1000, n_features=20, n_informative=15, n_redundant=5, random_state=7)\n",
        "# define the pipeline\n",
        "steps = list()\n",
        "steps.append(('scaler', MinMaxScaler()))\n",
        "steps.append(('model', LogisticRegression()))\n",
        "pipeline = Pipeline(steps=steps)\n",
        "# define the evaluation procedure\n",
        "cv = RepeatedStratifiedKFold(n_splits=10, n_repeats=3, random_state=1)\n",
        "# evaluate the model using cross-validation\n",
        "scores = cross_val_score(pipeline, X, y, scoring='accuracy', cv=cv, n_jobs=-1)\n",
        "# report performance\n",
        "print('Accuracy: %.3f (%.3f)' % (mean(scores)*100, std(scores)*100))"
      ],
      "metadata": {
        "colab": {
          "base_uri": "https://localhost:8080/"
        },
        "id": "79iGiwQ-Gw6w",
        "outputId": "d0fd13b8-403a-421b-aed6-69bebfe3cddc"
      },
      "execution_count": null,
      "outputs": [
        {
          "output_type": "stream",
          "name": "stdout",
          "text": [
            "Accuracy: 85.433 (3.471)\n"
          ]
        }
      ]
    },
    {
      "cell_type": "markdown",
      "source": [
        "Chapter 20 How to Make Distribution More Gaussian\n",
        "\n",
        "Uses Soan.csv dataset"
      ],
      "metadata": {
        "id": "UCWWXlMgYfBC"
      }
    },
    {
      "cell_type": "code",
      "source": [
        "#upload sonar.csv file from local drive and import file\n",
        "# load and summarize the sonar dataset\n",
        "import pandas as pd\n",
        "from google.colab import files\n",
        "sonar_file = files.upload()\n",
        "df = pd.read_csv('/content/sonar.csv', header=None)"
      ],
      "metadata": {
        "id": "62BCF0uAYtEn"
      },
      "execution_count": null,
      "outputs": []
    },
    {
      "cell_type": "code",
      "source": [
        "!pwd\n",
        "!ls\n",
        "print(df.shape)\n",
        "print(df.describe())"
      ],
      "metadata": {
        "id": "LwFQ4QBHY76E"
      },
      "execution_count": null,
      "outputs": []
    },
    {
      "cell_type": "code",
      "source": [
        "import matplotlib.pyplot as plt\n",
        "\n",
        "fig = df.hist(xlabelsize=4, ylabelsize=4)\n",
        "[x.title.set_size(4) for x in fig.ravel()]\n",
        "\n",
        "plt.show()"
      ],
      "metadata": {
        "id": "avJBa-KBZEX2"
      },
      "execution_count": null,
      "outputs": []
    },
    {
      "cell_type": "markdown",
      "source": [
        "Fit & evaluate raw-data using k-nearest neighbor"
      ],
      "metadata": {
        "id": "Sp2ED00oZLLH"
      }
    },
    {
      "cell_type": "code",
      "source": [
        "# evaluate knn on the raw sonar dataset\n",
        "import numpy as np\n",
        "import pandas as pd\n",
        "from sklearn.model_selection import cross_val_score\n",
        "from sklearn.model_selection import RepeatedStratifiedKFold\n",
        "from sklearn.neighbors import KNeighborsClassifier\n",
        "from sklearn.preprocessing import LabelEncoder\n",
        "\n",
        "# load dataset\n",
        "df = read_csv('sonar', header=None)\n",
        "array = df.values\n",
        "\n",
        "#seaparate into input and output columns\n",
        "X, y = array[:, :-1], array[:, -1]\n",
        "\n",
        "# ensure inputs are floats and output is an integer label\n",
        "X = X.astype('float32')\n",
        "y = LabelEncoder().fit_transform(y.astype('str'))\n",
        "\n",
        "#define and configure the model\n",
        "model = KNeighborsClassifier()\n",
        "\n",
        "# evaluate the model\n",
        "cv = RepeatedStratifiedKFold(n_splits=10, n_repeats=3, random_state=1)\n",
        "n_scores = cross_val_score(model, X, y, scoring='accuracy', cv=cv, n_jobs=-1)\n",
        "\n",
        "# report model performance\n",
        "print('Accuracy: %.3f (%.3f)' % (np.mean(n_scores), np.std(n_scores)))"
      ],
      "metadata": {
        "id": "FWTN8zMiZHqA"
      },
      "execution_count": null,
      "outputs": []
    },
    {
      "cell_type": "markdown",
      "source": [
        "# Box-Cox Power Transform example"
      ],
      "metadata": {
        "id": "MrBrr4HvZV3W"
      }
    },
    {
      "cell_type": "code",
      "source": [
        "import pandas as pd\n",
        "from sklearn.preprocessing import PowerTransformer\n",
        "from sklearn.preprocessing import MinMaxScaler\n",
        "from sklearn.pipeline import Pipeline\n",
        "import matplotlib.pyplot as plt\n",
        "\n",
        "# load dataset\n",
        "df = pd.read_csv('sonar.csv', header=None)\n",
        "\n",
        "# retrieve just the numeric input values\n",
        "array = df.values[:, :-1]\n",
        "\n",
        "# perform a box-cox transform of the data array\n",
        "scaler = MinMaxScaler(feature_range=(1,2)) # make certain all values > 0\n",
        "power = PowerTransformer(method='box-cox')\n",
        "pipeline = Pipeline(steps=[('s', scaler),('p', power)])\n",
        "array = pipeline.fit_transform(array)\n",
        "\n",
        "# covert array back to dataframe\n",
        "df2 = pd.DataFrame(array)\n",
        "\n",
        "# histograms of variables\n",
        "fig = df2.hist(xlabelsize=4, ylabelsize=4)\n",
        "[x.title.set_size(4) for x in fig.ravel()]\n",
        "\n",
        "#show plot\n",
        "plt.show()"
      ],
      "metadata": {
        "id": "X4gth8YGZSwd"
      },
      "execution_count": null,
      "outputs": []
    },
    {
      "cell_type": "code",
      "source": [
        ""
      ],
      "metadata": {
        "id": "KCsOZbsSZ2Md"
      },
      "execution_count": null,
      "outputs": []
    },
    {
      "cell_type": "markdown",
      "source": [
        "## Yeo-Johnson transform still to be completed\n",
        "& Box-Cox using KNN"
      ],
      "metadata": {
        "id": "gQg-atVXZlyf"
      }
    }
  ]
}
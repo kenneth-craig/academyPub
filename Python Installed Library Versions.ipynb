{
  "nbformat": 4,
  "nbformat_minor": 0,
  "metadata": {
    "colab": {
      "name": "Untitled13.ipynb",
      "provenance": [],
      "authorship_tag": "ABX9TyNaGkEzKFV2Q6kqM+3wYUGg",
      "include_colab_link": true
    },
    "kernelspec": {
      "name": "python3",
      "display_name": "Python 3"
    },
    "language_info": {
      "name": "python"
    }
  },
  "cells": [
    {
      "cell_type": "markdown",
      "metadata": {
        "id": "view-in-github",
        "colab_type": "text"
      },
      "source": [
        "<a href=\"https://colab.research.google.com/github/kenneth-craig/academyPub/blob/main/Python%20Installed%20Library%20Versions.ipynb\" target=\"_parent\"><img src=\"https://colab.research.google.com/assets/colab-badge.svg\" alt=\"Open In Colab\"/></a>"
      ]
    },
    {
      "cell_type": "code",
      "execution_count": 8,
      "metadata": {
        "colab": {
          "base_uri": "https://localhost:8080/"
        },
        "id": "tfLYTaGyTacN",
        "outputId": "caffe99a-721b-4ebc-bd3e-a6d5a97a256e"
      },
      "outputs": [
        {
          "output_type": "stream",
          "name": "stdout",
          "text": [
            "scipy: 1.4.1\n",
            "numpy: 1.19.5\n",
            "matplotlib: 3.2.2\n",
            "pandas: 1.1.5\n",
            "statsmodels : 0.10.2\n",
            "sklearn: 1.0.2\n",
            "Python 3.7.12\n"
          ]
        }
      ],
      "source": [
        "# Check versions of python libraries\n",
        "import scipy\n",
        "print('scipy: %s' % scipy.__version__)\n",
        "import numpy\n",
        "print('numpy: %s' % numpy.__version__)\n",
        "import matplotlib\n",
        "print('matplotlib: %s' % matplotlib.__version__)\n",
        "import pandas\n",
        "print('pandas: %s' % pandas.__version__)\n",
        "import statsmodels\n",
        "print('statsmodels : %s' % statsmodels.__version__)\n",
        "import sklearn\n",
        "print('sklearn: %s' % sklearn.__version__)\n",
        "\n",
        "!python -V"
      ]
    }
  ]
}
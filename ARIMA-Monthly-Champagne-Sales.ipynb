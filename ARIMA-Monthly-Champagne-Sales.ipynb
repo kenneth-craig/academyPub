{
  "nbformat": 4,
  "nbformat_minor": 0,
  "metadata": {
    "colab": {
      "name": "Untitled17.ipynb",
      "provenance": [],
      "authorship_tag": "ABX9TyNtutoRUT+cF++aaNIWiSMX",
      "include_colab_link": true
    },
    "kernelspec": {
      "name": "python3",
      "display_name": "Python 3"
    },
    "language_info": {
      "name": "python"
    }
  },
  "cells": [
    {
      "cell_type": "markdown",
      "metadata": {
        "id": "view-in-github",
        "colab_type": "text"
      },
      "source": [
        "<a href=\"https://colab.research.google.com/github/kenneth-craig/academyPub/blob/main/ARIMA-Monthly-Champagne-Sales.ipynb\" target=\"_parent\"><img src=\"https://colab.research.google.com/assets/colab-badge.svg\" alt=\"Open In Colab\"/></a>"
      ]
    },
    {
      "cell_type": "code",
      "source": [
        "# Install latest statsmodel library v0.13\n",
        "!pip install -U statsmodels"
      ],
      "metadata": {
        "colab": {
          "base_uri": "https://localhost:8080/"
        },
        "id": "UyyhgEYsAJOq",
        "outputId": "56658bff-257d-4b0b-9820-38a2bb0dc021"
      },
      "execution_count": 1,
      "outputs": [
        {
          "output_type": "stream",
          "name": "stdout",
          "text": [
            "Requirement already satisfied: statsmodels in /usr/local/lib/python3.7/dist-packages (0.10.2)\n",
            "Collecting statsmodels\n",
            "  Downloading statsmodels-0.13.2-cp37-cp37m-manylinux_2_17_x86_64.manylinux2014_x86_64.whl (9.8 MB)\n",
            "\u001b[K     |████████████████████████████████| 9.8 MB 13.9 MB/s \n",
            "\u001b[?25hRequirement already satisfied: patsy>=0.5.2 in /usr/local/lib/python3.7/dist-packages (from statsmodels) (0.5.2)\n",
            "Requirement already satisfied: scipy>=1.3 in /usr/local/lib/python3.7/dist-packages (from statsmodels) (1.4.1)\n",
            "Requirement already satisfied: numpy>=1.17 in /usr/local/lib/python3.7/dist-packages (from statsmodels) (1.21.5)\n",
            "Requirement already satisfied: packaging>=21.3 in /usr/local/lib/python3.7/dist-packages (from statsmodels) (21.3)\n",
            "Requirement already satisfied: pandas>=0.25 in /usr/local/lib/python3.7/dist-packages (from statsmodels) (1.3.5)\n",
            "Requirement already satisfied: pyparsing!=3.0.5,>=2.0.2 in /usr/local/lib/python3.7/dist-packages (from packaging>=21.3->statsmodels) (3.0.7)\n",
            "Requirement already satisfied: pytz>=2017.3 in /usr/local/lib/python3.7/dist-packages (from pandas>=0.25->statsmodels) (2018.9)\n",
            "Requirement already satisfied: python-dateutil>=2.7.3 in /usr/local/lib/python3.7/dist-packages (from pandas>=0.25->statsmodels) (2.8.2)\n",
            "Requirement already satisfied: six in /usr/local/lib/python3.7/dist-packages (from patsy>=0.5.2->statsmodels) (1.15.0)\n",
            "Installing collected packages: statsmodels\n",
            "  Attempting uninstall: statsmodels\n",
            "    Found existing installation: statsmodels 0.10.2\n",
            "    Uninstalling statsmodels-0.10.2:\n",
            "      Successfully uninstalled statsmodels-0.10.2\n",
            "Successfully installed statsmodels-0.13.2\n"
          ]
        }
      ]
    },
    {
      "cell_type": "code",
      "source": [
        "# Easiest Way to get file uploaded to Google Colab environment\n",
        "from google.colab import files\n",
        "file = files.upload()"
      ],
      "metadata": {
        "colab": {
          "resources": {
            "http://localhost:8080/nbextensions/google.colab/files.js": {
              "data": "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",
              "ok": true,
              "headers": [
                [
                  "content-type",
                  "application/javascript"
                ]
              ],
              "status": 200,
              "status_text": ""
            }
          },
          "base_uri": "https://localhost:8080/",
          "height": 73
        },
        "id": "B7siVukGALd7",
        "outputId": "929ff34c-0907-412c-d8c7-d889b0c35134"
      },
      "execution_count": 2,
      "outputs": [
        {
          "output_type": "display_data",
          "data": {
            "text/html": [
              "\n",
              "     <input type=\"file\" id=\"files-333745ab-cdf6-4cfe-b648-571b05b66a4f\" name=\"files[]\" multiple disabled\n",
              "        style=\"border:none\" />\n",
              "     <output id=\"result-333745ab-cdf6-4cfe-b648-571b05b66a4f\">\n",
              "      Upload widget is only available when the cell has been executed in the\n",
              "      current browser session. Please rerun this cell to enable.\n",
              "      </output>\n",
              "      <script src=\"/nbextensions/google.colab/files.js\"></script> "
            ],
            "text/plain": [
              "<IPython.core.display.HTML object>"
            ]
          },
          "metadata": {}
        },
        {
          "output_type": "stream",
          "name": "stdout",
          "text": [
            "Saving champagne.csv to champagne.csv\n"
          ]
        }
      ]
    },
    {
      "cell_type": "markdown",
      "source": [
        "# End To End ARIMA Sample Using Boston Armed Robery Dataset - Ch30\n",
        "**Problem Description** - Ch 32.2\n",
        "\n",
        "**Test Harness** - Ch 32.3\n",
        "\n",
        "**Persistence Model for Comparison Purposes** - Ch 32.4\n",
        "\n",
        "**Data Analysis** - Ch 32.5\n",
        "\n",
        "**ARIMA Model** - Ch 32.6\n",
        "\n",
        "**Model Validation** - Ch 31.7"
      ],
      "metadata": {
        "id": "leIOF3e93cg9"
      }
    },
    {
      "cell_type": "markdown",
      "source": [
        "# Problem Description\n",
        "- Predict the number of monthly sales of champagne for the Perrin Freres label\n",
        "- Provides the number of monthly sales of champagne from January 1964 to September 1972, or just under 10 years of data\n",
        "- Units: The values are a count of millions of sales\n",
        "- There are 105 observation, the final year of data will be used for validation (oot)\n",
        "- The problem will use Rolling Forecast type model"
      ],
      "metadata": {
        "id": "dbAt-qcq4Jll"
      }
    },
    {
      "cell_type": "markdown",
      "source": [
        "# Test Harness\n",
        "**Evaluation Method**\n",
        "- Evaluate the performance of predictions using Root Mean Squared (RMSE) - This will give more weight to predictions that are grossly wrong and will have same unit as original data\n",
        "- Any transformations to the data (e.g. box-cox) must be reversed before RMSE is calculated and calculated & reported to make the performance between different mothods directly comparable\n",
        "- The dataset is not current therefore the final 12 months of data will be withheld to validate for the final model.\n",
        "- Will use walk-forward validation will be used for model evaluation i.e. one-step forecasts are needed given all the available data\n",
        "\n",
        "**Test Strategy**\n",
        "- Walk forward validation will work as follows:\n",
        " - 50% of data will be held back for training the model\n",
        " - Remaining 50% of the dataset will be iterated and used to test the model\n",
        "- For each step in the Test dataset:\n",
        " - A model will be trained\n",
        " - A one-step prediction made and the prediction stored for later evaluation\n",
        " - The actual observation from the test dataset will be added to the training dataset for the next iteration\n",
        "- the redictions made during the iteration of the test dataset will be evaluated and RMSE score reported\n",
        "- Given the small size of the dataset we will allow a model to be re-trained given all available data prior to each prediction"
      ],
      "metadata": {
        "id": "5W9liBGM4OlN"
      }
    },
    {
      "cell_type": "code",
      "source": [
        "import pandas as pd\n",
        "\n",
        "series = pd.read_csv('champagne.csv', header=0, index_col=0, parse_dates=True, squeeze=True)\n",
        "split_point = len(series) - 12\n",
        "dev_champagne_sales, oot_champagne_sales = series[0:split_point], series[split_point:]\n",
        "print('dev_champagne_sales %d, oot_champagne_sales %d' % (len(dev_champagne_sales), len(oot_champagne_sales)))\n",
        "print(series.describe())\n",
        "dev_champagne_sales.to_csv('dev_champagne_sales.csv')"
      ],
      "metadata": {
        "colab": {
          "base_uri": "https://localhost:8080/"
        },
        "id": "ac-Kp0MG4dle",
        "outputId": "20b893ff-4cc3-44bc-dce5-e85203ec84fa"
      },
      "execution_count": 4,
      "outputs": [
        {
          "output_type": "stream",
          "name": "stdout",
          "text": [
            "dev_champagne_sales 93, oot_champagne_sales 12\n",
            "count      105.000000\n",
            "mean      4761.152381\n",
            "std       2553.502601\n",
            "min       1413.000000\n",
            "25%       3113.000000\n",
            "50%       4217.000000\n",
            "75%       5221.000000\n",
            "max      13916.000000\n",
            "Name: Sales, dtype: float64\n"
          ]
        }
      ]
    },
    {
      "cell_type": "markdown",
      "source": [
        "# Persistence Model for Comparison Purproses"
      ],
      "metadata": {
        "id": "a7wb_wzyDP_E"
      }
    },
    {
      "cell_type": "code",
      "source": [
        "# evaluate persistence model on time series\n",
        "import pandas as pd\n",
        "from sklearn.metrics import mean_squared_error\n",
        "import math as ml\n",
        "\n",
        "# load data\n",
        "series = pd.read_csv('dev_champagne_sales.csv', header=0, index_col=0, parse_dates=True, squeeze=True)\n",
        "# prepare data\n",
        "X = series.values.astype('float32')\n",
        "train_size = int(len(X) * 0.50)\n",
        "train, test = X[0:train_size], X[train_size:]\n",
        "# walk-forward validation\n",
        "history = [x for x in train]\n",
        "predictions = list()\n",
        "for i in range(len(test)):\n",
        "  # predict\n",
        "  yhat = history[-1]\n",
        "  predictions.append(yhat)\n",
        "  # observation\n",
        "  obs = test[i]\n",
        "  history.append(obs)\n",
        "  print('>Predicted=%3.f, Expected=%3.f' % (yhat, obs))\n",
        "# report performance\n",
        "rmse = ml.sqrt(mean_squared_error(test, predictions))\n",
        "print('RMSE: %.3f' % rmse)\n",
        "\n",
        "# Conclusion: An RMSE value of 3186.501 means that on average the model was wrong by about 3186 million of sales (per month) for each prediction made\n"
      ],
      "metadata": {
        "colab": {
          "base_uri": "https://localhost:8080/"
        },
        "id": "JTmfF4RWDQ4X",
        "outputId": "0a2934fe-6f29-4d1b-a1d9-8f3cbd158572"
      },
      "execution_count": 14,
      "outputs": [
        {
          "output_type": "stream",
          "name": "stdout",
          "text": [
            ">Predicted=5428, Expected=8314\n",
            ">Predicted=8314, Expected=10651\n",
            ">Predicted=10651, Expected=3633\n",
            ">Predicted=3633, Expected=4292\n",
            ">Predicted=4292, Expected=4154\n",
            ">Predicted=4154, Expected=4121\n",
            ">Predicted=4121, Expected=4647\n",
            ">Predicted=4647, Expected=4753\n",
            ">Predicted=4753, Expected=3965\n",
            ">Predicted=3965, Expected=1723\n",
            ">Predicted=1723, Expected=5048\n",
            ">Predicted=5048, Expected=6922\n",
            ">Predicted=6922, Expected=9858\n",
            ">Predicted=9858, Expected=11331\n",
            ">Predicted=11331, Expected=4016\n",
            ">Predicted=4016, Expected=3957\n",
            ">Predicted=3957, Expected=4510\n",
            ">Predicted=4510, Expected=4276\n",
            ">Predicted=4276, Expected=4968\n",
            ">Predicted=4968, Expected=4677\n",
            ">Predicted=4677, Expected=3523\n",
            ">Predicted=3523, Expected=1821\n",
            ">Predicted=1821, Expected=5222\n",
            ">Predicted=5222, Expected=6872\n",
            ">Predicted=6872, Expected=10803\n",
            ">Predicted=10803, Expected=13916\n",
            ">Predicted=13916, Expected=2639\n",
            ">Predicted=2639, Expected=2899\n",
            ">Predicted=2899, Expected=3370\n",
            ">Predicted=3370, Expected=3740\n",
            ">Predicted=3740, Expected=2927\n",
            ">Predicted=2927, Expected=3986\n",
            ">Predicted=3986, Expected=4217\n",
            ">Predicted=4217, Expected=1738\n",
            ">Predicted=1738, Expected=5221\n",
            ">Predicted=5221, Expected=6424\n",
            ">Predicted=6424, Expected=9842\n",
            ">Predicted=9842, Expected=13076\n",
            ">Predicted=13076, Expected=3934\n",
            ">Predicted=3934, Expected=3162\n",
            ">Predicted=3162, Expected=4286\n",
            ">Predicted=4286, Expected=4676\n",
            ">Predicted=4676, Expected=5010\n",
            ">Predicted=5010, Expected=4874\n",
            ">Predicted=4874, Expected=4633\n",
            ">Predicted=4633, Expected=1659\n",
            ">Predicted=1659, Expected=5951\n",
            "RMSE: 3186.501\n"
          ]
        }
      ]
    },
    {
      "cell_type": "markdown",
      "source": [
        "**Conclusion**\n",
        "- An RMSE value of 3186.501 means that on average the model was wrong by about 3186 million of sales (per month) for each prediction made"
      ],
      "metadata": {
        "id": "tlHXrk3HNCck"
      }
    },
    {
      "cell_type": "markdown",
      "source": [
        "# Data Analysis\n",
        "1) Summary Statistics\n",
        "\n",
        "2) Line Plot & Seasonal Line Plots\n",
        "\n",
        "3) Density Plot\n",
        "\n",
        "4) Box & Whisker Plot comparing Annual Data Trends\n",
        "\n",
        "5) Stationary Data test\n",
        "\n",
        "6) ACF & PACF Auto-Correlation Plots"
      ],
      "metadata": {
        "id": "nryY-A9uPKz1"
      }
    },
    {
      "cell_type": "code",
      "source": [
        "import pandas as pd\n",
        "from matplotlib import pyplot\n",
        "series = pd.read_csv('dev_champagne_sales.csv', header=0, index_col=0, parse_dates=True, squeeze=True)\n",
        "series.plot()\n",
        "pyplot.show()"
      ],
      "metadata": {
        "colab": {
          "base_uri": "https://localhost:8080/",
          "height": 279
        },
        "id": "JotpZ7CBMhB3",
        "outputId": "408859bf-0b74-4f59-a48d-aa9c07a0ec51"
      },
      "execution_count": 16,
      "outputs": [
        {
          "output_type": "display_data",
          "data": {
            "image/png": "[encoded data removed]",
            "text/plain": [
              "<Figure size 432x288 with 1 Axes>"
            ]
          },
          "metadata": {
            "needs_background": "light"
          }
        }
      ]
    },
    {
      "cell_type": "markdown",
      "source": [
        "**Line Plot Observations**\n",
        "- There may be an increasing trend of sales over time\n",
        "- There appears to be systematic seasonality to the sales for each year\n",
        "- The seasonal signal appears to be growing over time, suggesting a multiplicative relationship (increasing change)\n",
        "- There does not appear to be any obvious outliers\n",
        "- The seasonality suggests that the series is almost certainly non-stationary\n",
        "- There may be benefit in explicitly modelling the seasonal component and removing it.\n",
        "- You could also explore using differencing with one or two levels in order to make the series stationary\n",
        "- The increasing trend or growth in the seasonal component may suggest the use of a log or other power transform"
      ],
      "metadata": {
        "id": "Wvi84GP1RiWQ"
      }
    },
    {
      "cell_type": "markdown",
      "source": [
        "**Additional analysis - Seasonal Line Plots**\n",
        "- We can confirm the assumption that the seasonality is a yearly cycle by eyeballing line plot of dataset by year.\n",
        "- The example provides the full 7 years of data as separate groups and creates one line plot for each.\n",
        "- the line plots are aligned vertically to help spot any yesar-to-year pattern"
      ],
      "metadata": {
        "id": "tNr3BjDaTwz8"
      }
    },
    {
      "cell_type": "code",
      "source": [
        "import pandas as pd\n",
        "from matplotlib import pyplot\n",
        "\n",
        "# load data\n",
        "series = pd.read_csv('dev_champagne_sales.csv', header=0, index_col=0, parse_dates=True, squeeze=True)\n",
        "# data preparation\n",
        "groups = series['1964':'1970'].groupby(pd.Grouper(freq='A'))\n",
        "years = pd.DataFrame()\n",
        "pyplot.figure()\n",
        "i = 1\n",
        "n_groups = len(groups)\n",
        "for name, group in groups:\n",
        "  pyplot.subplot((n_groups*100) + 10 + i)\n",
        "  i += 1\n",
        "  pyplot.plot(group)\n",
        "pyplot.show()"
      ],
      "metadata": {
        "colab": {
          "base_uri": "https://localhost:8080/",
          "height": 269
        },
        "id": "LvBdILJMUGy2",
        "outputId": "f65c5cd9-9b91-49f7-901a-ec3102114f22"
      },
      "execution_count": 18,
      "outputs": [
        {
          "output_type": "display_data",
          "data": {
            "image/png": "[encoded data removed]",
            "text/plain": [
              "<Figure size 432x288 with 7 Axes>"
            ]
          },
          "metadata": {
            "needs_background": "light"
          }
        }
      ]
    },
    {
      "cell_type": "markdown",
      "source": [
        "**Seasonal Line Plot Observations**\n",
        "- We can claerly see a dip each August and a rise from each August to December\n",
        "- This pattern appears the same each year, although a different levels.\n",
        "- This will help with any explicitly season-based modelling later\n",
        "- Enhancement: It might have been easier if all season line plots were added to the one graph (in different colours) to help contrast the data for each year"
      ],
      "metadata": {
        "id": "358lA4yaW8s7"
      }
    },
    {
      "cell_type": "markdown",
      "source": [
        "**Density Plot**"
      ],
      "metadata": {
        "id": "zzOCBI8yX65K"
      }
    },
    {
      "cell_type": "code",
      "source": [
        "# Density plot\n",
        "import pandas as pd\n",
        "from matplotlib import pyplot\n",
        "\n",
        "# load data\n",
        "series = pd.read_csv('dev_champagne_sales.csv', header=0, index_col=0, parse_dates=True, squeeze=True)\n",
        "# History plot\n",
        "series.hist()\n",
        "pyplot.show()\n",
        "# Density plot\n",
        "series.plot(kind='kde')\n",
        "pyplot.show()\n"
      ],
      "metadata": {
        "colab": {
          "base_uri": "https://localhost:8080/",
          "height": 513
        },
        "id": "013MGV79YCOw",
        "outputId": "8d393d6e-5934-4dec-b8ad-23c164489ae6"
      },
      "execution_count": 20,
      "outputs": [
        {
          "output_type": "display_data",
          "data": {
            "image/png": "[encoded data removed]",
            "text/plain": [
              "<Figure size 432x288 with 1 Axes>"
            ]
          },
          "metadata": {
            "needs_background": "light"
          }
        },
        {
          "output_type": "display_data",
          "data": {
            "image/png": "[encoded data removed]",
            "text/plain": [
              "<Figure size 432x288 with 1 Axes>"
            ]
          },
          "metadata": {
            "needs_background": "light"
          }
        }
      ]
    },
    {
      "cell_type": "markdown",
      "source": [
        "**Density Plot Observations**\n",
        "- The plot is not Gaussian\n",
        "- The shape has a long right tail and may suggest an exponential distribution\n",
        "\n",
        "**Conclusion**\n",
        "- This lends more support to exploring some power transforms of the data prior to modelling\n"
      ],
      "metadata": {
        "id": "vBIoAQNUZKfY"
      }
    },
    {
      "cell_type": "markdown",
      "source": [
        "**Box and Whisker Plot**\n",
        "- Only 1964 to 1970 was considered\n",
        "- The last year (1970) was ignored because it only contained 9 months of data."
      ],
      "metadata": {
        "id": "oSFZa1gpZw9h"
      }
    },
    {
      "cell_type": "code",
      "source": [
        "import pandas as pd\n",
        "from matplotlib import pyplot\n",
        "\n",
        "# load data\n",
        "series = pd.read_csv('dev_champagne_sales.csv', header=0, index_col=0, parse_dates=True, squeeze=True)\n",
        "groups = series['1964':'1970'].groupby(pd.Grouper(freq='A'))\n",
        "years = pd.DataFrame()\n",
        "\n",
        "for name, group in groups:\n",
        "  years[name.year] = group.values\n",
        "years.boxplot()\n",
        "pyplot.show()"
      ],
      "metadata": {
        "colab": {
          "base_uri": "https://localhost:8080/",
          "height": 265
        },
        "id": "-JT9yE0kZtO8",
        "outputId": "6b10d0c6-981a-4898-a536-bc3b1c6c03da"
      },
      "execution_count": 23,
      "outputs": [
        {
          "output_type": "display_data",
          "data": {
            "image/png": "[encoded data removed]",
            "text/plain": [
              "<Figure size 432x288 with 1 Axes>"
            ]
          },
          "metadata": {
            "needs_background": "light"
          }
        }
      ]
    },
    {
      "cell_type": "markdown",
      "source": [
        "**Density Plot Observations**\n",
        "- The median value for each year (green line) may show an increasing trend (except 1970)\n",
        "- The spread or middle 50% of the data (blue boxes) does appear reasonably stable\n",
        "- There are outliers each year (black crosses); these may be the tops or bottoms of the seasonal cycle\n",
        "- The last year, 1970 does look different from the trend in the prior years\n",
        "\n",
        "**Summary**\n",
        "- Observations suggest perhaps some growth trend over the years & outliers may be a part of the seasonal cycle\n",
        "**Additional Analysis**\n",
        "- This yearly view of the data is an interesting avenue & could be persued further by looking at summary statistics from year-to-year and changes in summary stats from year-to-year"
      ],
      "metadata": {
        "id": "bbGmRmg3b-hj"
      }
    },
    {
      "cell_type": "markdown",
      "source": [
        "# ARIMA Model"
      ],
      "metadata": {
        "id": "cmNlvKtedq6J"
      }
    },
    {
      "cell_type": "code",
      "source": [
        ""
      ],
      "metadata": {
        "id": "ZYkvfL2HeMSg"
      },
      "execution_count": null,
      "outputs": []
    }
  ]
}
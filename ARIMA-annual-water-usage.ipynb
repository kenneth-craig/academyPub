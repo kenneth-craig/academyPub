{
  "nbformat": 4,
  "nbformat_minor": 0,
  "metadata": {
    "colab": {
      "name": "Untitled15.ipynb",
      "provenance": [],
      "authorship_tag": "ABX9TyME/IVoH06LF8Co404snehl",
      "include_colab_link": true
    },
    "kernelspec": {
      "name": "python3",
      "display_name": "Python 3"
    },
    "language_info": {
      "name": "python"
    }
  },
  "cells": [
    {
      "cell_type": "markdown",
      "metadata": {
        "id": "view-in-github",
        "colab_type": "text"
      },
      "source": [
        "<a href=\"https://colab.research.google.com/github/kenneth-craig/academyPub/blob/main/ARIMA-annual-water-usage.ipynb\" target=\"_parent\"><img src=\"https://colab.research.google.com/assets/colab-badge.svg\" alt=\"Open In Colab\"/></a>"
      ]
    },
    {
      "cell_type": "markdown",
      "source": [
        "ARIMA Sample for Baltimore Water Usage (1885-1963)"
      ],
      "metadata": {
        "id": "l04V-0Zkj6OO"
      }
    },
    {
      "cell_type": "code",
      "source": [
        "# Install latest statsmodel library v0.13\n",
        "!pip install -U statsmodels"
      ],
      "metadata": {
        "id": "2S3pGJ3koJB3",
        "colab": {
          "base_uri": "https://localhost:8080/"
        },
        "outputId": "ac268090-83c5-4c85-e7fd-00e5ad2539e6"
      },
      "execution_count": 1,
      "outputs": [
        {
          "output_type": "stream",
          "name": "stdout",
          "text": [
            "Requirement already satisfied: statsmodels in /usr/local/lib/python3.7/dist-packages (0.10.2)\n",
            "Collecting statsmodels\n",
            "  Downloading statsmodels-0.13.2-cp37-cp37m-manylinux_2_17_x86_64.manylinux2014_x86_64.whl (9.8 MB)\n",
            "\u001b[K     |████████████████████████████████| 9.8 MB 4.1 MB/s \n",
            "\u001b[?25hRequirement already satisfied: packaging>=21.3 in /usr/local/lib/python3.7/dist-packages (from statsmodels) (21.3)\n",
            "Requirement already satisfied: patsy>=0.5.2 in /usr/local/lib/python3.7/dist-packages (from statsmodels) (0.5.2)\n",
            "Requirement already satisfied: pandas>=0.25 in /usr/local/lib/python3.7/dist-packages (from statsmodels) (1.3.5)\n",
            "Requirement already satisfied: scipy>=1.3 in /usr/local/lib/python3.7/dist-packages (from statsmodels) (1.4.1)\n",
            "Requirement already satisfied: numpy>=1.17 in /usr/local/lib/python3.7/dist-packages (from statsmodels) (1.21.5)\n",
            "Requirement already satisfied: pyparsing!=3.0.5,>=2.0.2 in /usr/local/lib/python3.7/dist-packages (from packaging>=21.3->statsmodels) (3.0.7)\n",
            "Requirement already satisfied: pytz>=2017.3 in /usr/local/lib/python3.7/dist-packages (from pandas>=0.25->statsmodels) (2018.9)\n",
            "Requirement already satisfied: python-dateutil>=2.7.3 in /usr/local/lib/python3.7/dist-packages (from pandas>=0.25->statsmodels) (2.8.2)\n",
            "Requirement already satisfied: six in /usr/local/lib/python3.7/dist-packages (from patsy>=0.5.2->statsmodels) (1.15.0)\n",
            "Installing collected packages: statsmodels\n",
            "  Attempting uninstall: statsmodels\n",
            "    Found existing installation: statsmodels 0.10.2\n",
            "    Uninstalling statsmodels-0.10.2:\n",
            "      Successfully uninstalled statsmodels-0.10.2\n",
            "Successfully installed statsmodels-0.13.2\n"
          ]
        }
      ]
    },
    {
      "cell_type": "code",
      "source": [
        "# Easiest Way to get file uploaded to Google Colab environment\n",
        "from google.colab import files\n",
        "file = files.upload()"
      ],
      "metadata": {
        "id": "xXLntW3-oFVn",
        "colab": {
          "resources": {
            "http://localhost:8080/nbextensions/google.colab/files.js": {
              "data": "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",
              "ok": true,
              "headers": [
                [
                  "content-type",
                  "application/javascript"
                ]
              ],
              "status": 200,
              "status_text": ""
            }
          },
          "base_uri": "https://localhost:8080/",
          "height": 73
        },
        "outputId": "def16b75-09ad-46be-828e-b775744cbc63"
      },
      "execution_count": 2,
      "outputs": [
        {
          "output_type": "display_data",
          "data": {
            "text/html": [
              "\n",
              "     <input type=\"file\" id=\"files-e48f8554-3a0d-4a90-b1ee-317a96aa6da4\" name=\"files[]\" multiple disabled\n",
              "        style=\"border:none\" />\n",
              "     <output id=\"result-e48f8554-3a0d-4a90-b1ee-317a96aa6da4\">\n",
              "      Upload widget is only available when the cell has been executed in the\n",
              "      current browser session. Please rerun this cell to enable.\n",
              "      </output>\n",
              "      <script src=\"/nbextensions/google.colab/files.js\"></script> "
            ],
            "text/plain": [
              "<IPython.core.display.HTML object>"
            ]
          },
          "metadata": {}
        },
        {
          "output_type": "stream",
          "name": "stdout",
          "text": [
            "Saving annual-water-usage.csv to annual-water-usage.csv\n"
          ]
        }
      ]
    },
    {
      "cell_type": "markdown",
      "source": [
        "# End To End ARIMA Sample Using Boston Armed Robery Dataset - Ch30\n",
        "**Problem Description** - Ch 31.2\n",
        "\n",
        "**Test Harness** - Ch 31.3\n",
        "\n",
        "**Persistence Model for Comparison Purposes** - Ch 31.4\n",
        "\n",
        "**Data Analysis** - Ch 31.5\n",
        "\n",
        "**ARIMA Model** - Ch 31.6\n",
        "\n",
        "**Model Validation** - Ch 31.7"
      ],
      "metadata": {
        "id": "hmOjvQuCF5BZ"
      }
    },
    {
      "cell_type": "markdown",
      "source": [
        "# Problem Description\n",
        "- Predict annual water usage in Baltimore, USA\n",
        "- The dataset provides annual water usage in Baltimore from 1885 to 1963, or 79 years of data\n",
        "- The values are in the units of litres per capita per day and there are 79 observations\n",
        "- The problem will use Rolling Forecast type model\n"
      ],
      "metadata": {
        "id": "R7E0dF1hKvta"
      }
    },
    {
      "cell_type": "markdown",
      "source": [
        "# Test Harness\n",
        "**Evaluation Method**\n",
        "- Evaluate the performance of predictions using Root Mean Squared (RMSE) - This will give more weight to predictions that are grossly wrong and will have same unit as original data\n",
        "- Any transformations to the data (e.g. box-cox) must be reversed before RMSE is calculated and calculated & reported to make the performance between different mothods directly comparable\n",
        "\n",
        "**Test Strategy**\n",
        "- The dataset is not current therefore 10 years (10 records) of data will be withheld to validate for the final model.\n",
        "- Will be evaluated using walk-forward validation i.e. one-step forecasts are needed given all available data\n",
        "- Walk forward validation will work as follows:\n",
        "\n",
        " - 50% of data will be held back for training the model\n",
        " - Remaining 50% of the dataset will be iterated and used to test the model\n",
        "- For each step in the Test dataset:\n",
        " - A model will be trained\n",
        " - A one-step prediction made and the prediction stored for later evaluation\n",
        " - The actual observation from the test dataset will be added to the training dataset for the next iteration\n",
        "- the redictions made during the iteration of the test dataset will be evaluated and RMSE score reported\n",
        "- Given the small size of the dataset we will allow a model to be re-trained given all available data prior to each prediction"
      ],
      "metadata": {
        "id": "3NbIsvzDOdOZ"
      }
    },
    {
      "cell_type": "code",
      "source": [
        "# Separate out Validation dataset\n",
        "import pandas as pd\n",
        "\n",
        "series = pd.read_csv('annual-water-usage.csv', header=0, index_col=0, parse_dates=True, squeeze=True)\n",
        "print(series.head())\n",
        "split_point = len(series) - 10\n",
        "dev_water, oot_water = series[0:split_point], series[split_point:]\n",
        "print('Development %d, Validation %d' % (len(dev_water), len(oot_water)))\n",
        "dev_water.to_csv('dev_water.csv')\n",
        "oot_water.to_csv('oot_water.csv')\n"
      ],
      "metadata": {
        "colab": {
          "base_uri": "https://localhost:8080/"
        },
        "id": "WVGEVZapOguD",
        "outputId": "6e347e18-bbf6-42a2-df24-af44fe1f9f40"
      },
      "execution_count": 5,
      "outputs": [
        {
          "output_type": "stream",
          "name": "stdout",
          "text": [
            "Year\n",
            "1885-01-01    356\n",
            "1886-01-01    386\n",
            "1887-01-01    397\n",
            "1888-01-01    397\n",
            "1889-01-01    413\n",
            "Name: Water, dtype: int64\n",
            "Development 69, Validation 10\n"
          ]
        }
      ]
    },
    {
      "cell_type": "markdown",
      "source": [
        "# Persistence Model for Comparison Purproses"
      ],
      "metadata": {
        "id": "SXVdmZlvSU-5"
      }
    },
    {
      "cell_type": "code",
      "execution_count": null,
      "metadata": {
        "id": "UlgThkPWj1ea"
      },
      "outputs": [],
      "source": [
        "# simple persistence model for annual water usage\n",
        "import pandas as pd\n",
        "from sklearn.metrics import mean_squared_error\n",
        "from math import sqrt\n",
        "\n",
        "# Load dataset\n",
        "series = pd.read_csv('dev_water.csv', header=0, index_col=0, parse_dates=True, squeeze=True)\n",
        "\n",
        "# RMSE Performance Measure & Walk-Forward Validation will be used for Model Evaluation\n",
        "# Prepare Data\n",
        "X = series.values.astype('float32')\n",
        "train_size = int(len(X) * 0.50)\n",
        "train,test = X[0:train_size], X[train_size:]\n",
        "\n",
        "# Walk Forward validation\n",
        "# Create History for Training data\n",
        "history = [x for x in train]\n",
        "# Predict result using Persistence Model\n",
        "predictions = list()\n",
        "for i in range(len(test)):\n",
        "  # Predict\n",
        "  yhat = history[-1]\n",
        "  predictions.append(yhat)\n",
        "  # Add observation to history\n",
        "  obs = test[i]\n",
        "  history.append(obs)\n",
        "  print('>Predicted=%.3f, Expected=%.3f' % (yhat, obs))\n",
        "# Report Performance\n",
        "rmse = sqrt(mean_squared_error(test, predictions))\n",
        "print('RMSE: %.3f' % rmse)\n",
        "\n",
        "# Conclusion: An RMSE value of 21.975 means that on average the model was wrong by about 22 litres per capita per day for each prediction made"
      ]
    },
    {
      "cell_type": "markdown",
      "source": [
        "**Conclusion**\n",
        "- An RMSE value of 21.975 means that on average the model was wrong by about 22 litres per capita per day for each prediction made"
      ],
      "metadata": {
        "id": "70N-6VFFhM9A"
      }
    },
    {
      "cell_type": "markdown",
      "source": [
        "# Data Analysis\n",
        "1) Summary Statistics\n",
        "\n",
        "2) Line Plot\n",
        "\n",
        "3) Density Plot\n",
        "\n",
        "4) Box & Whisker Plot comparing Annual Data Trends\n",
        "\n",
        "5) Stationary Data test\n",
        "\n",
        "6) ACF & PACF Auto-Correlation Plots"
      ],
      "metadata": {
        "id": "U_s1QfibWC92"
      }
    },
    {
      "cell_type": "code",
      "source": [
        "# Summary Statistics of Time Series\n",
        "import pandas as pd\n",
        "from matplotlib import pyplot\n",
        "\n",
        "series = pd.read_csv('dev_water.csv', header=0, index_col=0, parse_dates=True, squeeze=True)\n",
        "print(series.describe())\n",
        "# Observations: The standard deviation and percentiles suggests a reasonably tight spread around the mean\n",
        "\n",
        "# Line plot\n",
        "series.plot()\n",
        "pyplot.show()\n",
        "# Observations:\n",
        "# There looks to be an increased water usage over time\n",
        "# No obvious outliers although there are some large fluctuations over time\n",
        "# Small downward trend in the last few years\n",
        "# May be some benefit in explicitly modelling the trend component and removing it.\n",
        "# Also consider differencing one or two levels in order to make the series stationary\n",
        "\n",
        "# Density plot\n",
        "series.hist()\n",
        "pyplot.show()\n",
        "\n",
        "# Histogram plot\n",
        "series.plot(kind='kde')\n",
        "pyplot.show()\n",
        "\n",
        "# Plot Observations:\n",
        "# The plot is not Gaussian but is pretty close\n",
        "# The distribution has a long right tail and may suggest an exponential or a double gaussian\n",
        "# May benefit exploring some power transforms of the data prior to modelling"
      ],
      "metadata": {
        "colab": {
          "base_uri": "https://localhost:8080/",
          "height": 942
        },
        "id": "bV7Zcgz3WOs6",
        "outputId": "c8dcd311-9660-4321-a035-ecbdcd802590"
      },
      "execution_count": null,
      "outputs": [
        {
          "output_type": "stream",
          "name": "stdout",
          "text": [
            "count     69.000000\n",
            "mean     500.478261\n",
            "std       73.901685\n",
            "min      344.000000\n",
            "25%      458.000000\n",
            "50%      492.000000\n",
            "75%      538.000000\n",
            "max      662.000000\n",
            "Name: Water, dtype: float64\n"
          ]
        },
        {
          "output_type": "display_data",
          "data": {
            "image/png": "[encoded data removed]",
            "text/plain": [
              "<Figure size 432x288 with 1 Axes>"
            ]
          },
          "metadata": {
            "needs_background": "light"
          }
        },
        {
          "output_type": "display_data",
          "data": {
            "image/png": "[encoded data removed]",
            "text/plain": [
              "<Figure size 432x288 with 1 Axes>"
            ]
          },
          "metadata": {
            "needs_background": "light"
          }
        },
        {
          "output_type": "display_data",
          "data": {
            "image/png": "[encoded data removed]",
            "text/plain": [
              "<Figure size 432x288 with 1 Axes>"
            ]
          },
          "metadata": {
            "needs_background": "light"
          }
        }
      ]
    },
    {
      "cell_type": "markdown",
      "source": [
        "**Data Analysis Observations**\n",
        "- The standard deviation and percentiles suggests a reasonably tight spread around the mean\n",
        "\n",
        "**Line Plot Observations**\n",
        "- There looks to be an increased water usage over time\n",
        "- No obvious outliers although there are some large fluctuations over time\n",
        "- Small downward trend in the last few years\n",
        "- May be some benefit in explicitly modelling the trend component and removing it.\n",
        "- Also consider differencing one or two levels in order to make the series stationary\n",
        "\n",
        "**Density Plot Observations**\n",
        "- The plot is not Gaussian but is pretty close\n",
        "- The distribution has a long right tail and may suggest an exponential or a double gaussian\n",
        "- May benefit exploring some power transforms of the data prior to modelling"
      ],
      "metadata": {
        "id": "PRPEYunlde_u"
      }
    },
    {
      "cell_type": "markdown",
      "source": [
        "**Box & Whisker Plot**"
      ],
      "metadata": {
        "id": "9lVvoMGNh7Vp"
      }
    },
    {
      "cell_type": "code",
      "source": [
        "# Box & Whisker Plot\n",
        "import pandas as pd\n",
        "from matplotlib import pyplot\n",
        "\n",
        "# load data\n",
        "series = pd.read_csv('dev_water.csv', header=0, index_col=0, parse_dates=True, squeeze=True)\n",
        "\n",
        "# Group the data by every 10 years\n",
        "groups = series.groupby(pd.Grouper(freq='10YS'))\n",
        "decades = pd.DataFrame()\n",
        "for name, group in groups:\n",
        "  if len(group.values) is 10:\n",
        "    decades[name.year] = group.values\n",
        "# Box plot\n",
        "decades.boxplot()\n",
        "pyplot.show()\n",
        "\n",
        "# Observations:\n",
        "# The median value for each year (green line) may show increasing trend that may not be linear\n",
        "# Spread (middle 50%) of the data (blue box) does show some variability\n",
        "# The 2nd to last decade seems to have a lower average consumption, perhaps related to the first world war"
      ],
      "metadata": {
        "colab": {
          "base_uri": "https://localhost:8080/",
          "height": 265
        },
        "id": "9yOXrbcBiEO1",
        "outputId": "89f79c54-54ed-4481-f2b3-65da719cca1a"
      },
      "execution_count": null,
      "outputs": [
        {
          "output_type": "display_data",
          "data": {
            "image/png": "[encoded data removed]",
            "text/plain": [
              "<Figure size 432x288 with 1 Axes>"
            ]
          },
          "metadata": {
            "needs_background": "light"
          }
        }
      ]
    },
    {
      "cell_type": "markdown",
      "source": [
        "**Observations:**\n",
        "- The median value for each year (green line) may show increasing trend that may not be linear\n",
        "- Spread (middle 50%) of the data (blue box) does show some variability\n",
        "- The 2nd to last decade seems to have a lower average consumption, perhaps related to the first world war\n",
        "\n",
        "**Additional Analysis**\n",
        "- This yearly view of the data could be persued further by looking at the summary statics for each decade and changes in summary statics for each decade"
      ],
      "metadata": {
        "id": "hfsvRZaklLiO"
      }
    },
    {
      "cell_type": "markdown",
      "source": [
        "# ARIMA Model\n",
        "- Create and Test for Stationary Data\n",
        "- Augmented Dickey Fuller Test\n",
        "- ACF & PACF Auto_Correlation Plots\n",
        "- Manual Prediction\n",
        "- Grid Search\n",
        "- Review Residual Errors\n",
        "- Box-Cox Log Transformed Dataset"
      ],
      "metadata": {
        "id": "Bv6MLuq5l-Gh"
      }
    },
    {
      "cell_type": "code",
      "source": [
        "# Create and Test for Stationary Data\n",
        "import pandas as pd\n",
        "from statsmodels.tsa.stattools import adfuller\n",
        "from matplotlib import pyplot\n",
        "\n",
        "# create differenced series\n",
        "def difference(dataset):\n",
        "  diff = list()\n",
        "  for i in range(1, len(dataset)):\n",
        "    value = dataset[i] - dataset[i-1]\n",
        "    diff.append(value)\n",
        "  return pd.Series(diff)\n",
        "\n",
        "series = pd.read_csv('dev_water.csv', header=0, index_col=0, parse_dates=True, squeeze=True)\n",
        "X = series.values.astype('float32')\n",
        "# difference data\n",
        "stationary = difference(X)\n",
        "stationary.index = series.index[1:]\n",
        "# check if stationary\n",
        "result = adfuller(stationary)\n",
        "print('ADF Statistic: %f' % result[0])\n",
        "print('p-value: %f' % result[1])\n",
        "print('Critical Values:')\n",
        "for key, value in result[4].items():\n",
        "  print('\\t%s: %.3f' % (key, value))\n",
        "# plot differenced data\n",
        "stationary.plot()\n",
        "pyplot.show()\n",
        "# save\n",
        "stationary.to_csv('stationary.csv')\n"
      ],
      "metadata": {
        "id": "BxBRXa19rD4z",
        "outputId": "a2c00554-837e-402e-b039-73cc9dd66232",
        "colab": {
          "base_uri": "https://localhost:8080/",
          "height": 388
        }
      },
      "execution_count": null,
      "outputs": [
        {
          "output_type": "stream",
          "name": "stdout",
          "text": [
            "ADF Statistic: -6.126719\n",
            "p-value: 0.000000\n",
            "Critical Values:\n",
            "\t1%: -3.534\n",
            "\t5%: -2.906\n",
            "\t10%: -2.591\n"
          ]
        },
        {
          "output_type": "display_data",
          "data": {
            "image/png": "[encoded data removed]",
            "text/plain": [
              "<Figure size 432x288 with 1 Axes>"
            ]
          },
          "metadata": {
            "needs_background": "light"
          }
        }
      ]
    },
    {
      "cell_type": "markdown",
      "source": [
        "**Auto Correlation Plots - ACF & PACF**\n",
        "\n",
        "To determine lag values for AR & MA paerameters p & q"
      ],
      "metadata": {
        "id": "jo25UjbeFU4x"
      }
    },
    {
      "cell_type": "code",
      "source": [
        "import pandas as pd\n",
        "from statsmodels.graphics.tsaplots import plot_acf\n",
        "from statsmodels.graphics.tsaplots import plot_pacf\n",
        "from matplotlib import pyplot\n",
        "\n",
        "series = pd.read_csv('dev_water.csv', header=0, index_col=0, parse_dates=True, squeeze=True)\n",
        "\n",
        "plot_acf(series, lags=33)\n",
        "pyplot.show()\n",
        "plot_pacf(series, lags=33, method='ywm')\n",
        "pyplot.show()\n"
      ],
      "metadata": {
        "colab": {
          "base_uri": "https://localhost:8080/",
          "height": 545
        },
        "id": "kJDZ7_6vFpx_",
        "outputId": "821e8da6-6db0-4295-c33c-d0633feb1d63"
      },
      "execution_count": 23,
      "outputs": [
        {
          "output_type": "display_data",
          "data": {
            "image/png": "[encoded data removed]",
            "text/plain": [
              "<Figure size 432x288 with 1 Axes>"
            ]
          },
          "metadata": {
            "needs_background": "light"
          }
        },
        {
          "output_type": "display_data",
          "data": {
            "image/png": "[encoded data removed]",
            "text/plain": [
              "<Figure size 432x288 with 1 Axes>"
            ]
          },
          "metadata": {
            "needs_background": "light"
          }
        }
      ]
    }
  ]
}
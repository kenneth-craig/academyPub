{
  "nbformat": 4,
  "nbformat_minor": 0,
  "metadata": {
    "colab": {
      "name": "Untitled15.ipynb",
      "provenance": [],
      "authorship_tag": "ABX9TyOqWtusUOCYsRpMD9rE1MJs",
      "include_colab_link": true
    },
    "kernelspec": {
      "name": "python3",
      "display_name": "Python 3"
    },
    "language_info": {
      "name": "python"
    }
  },
  "cells": [
    {
      "cell_type": "markdown",
      "metadata": {
        "id": "view-in-github",
        "colab_type": "text"
      },
      "source": [
        "<a href=\"https://colab.research.google.com/github/kenneth-craig/academyPub/blob/main/ARIMA-annual-water-usage.ipynb\" target=\"_parent\"><img src=\"https://colab.research.google.com/assets/colab-badge.svg\" alt=\"Open In Colab\"/></a>"
      ]
    },
    {
      "cell_type": "markdown",
      "source": [
        "ARIMA Sample for Baltimore Water Usage (1885-1963)"
      ],
      "metadata": {
        "id": "l04V-0Zkj6OO"
      }
    },
    {
      "cell_type": "code",
      "source": [
        "!pip install -U statsmodels"
      ],
      "metadata": {
        "id": "2S3pGJ3koJB3"
      },
      "execution_count": null,
      "outputs": []
    },
    {
      "cell_type": "code",
      "source": [
        "from google.colab import files\n",
        "file = files.upload()"
      ],
      "metadata": {
        "id": "xXLntW3-oFVn"
      },
      "execution_count": null,
      "outputs": []
    },
    {
      "cell_type": "code",
      "execution_count": null,
      "metadata": {
        "id": "UlgThkPWj1ea"
      },
      "outputs": [],
      "source": [
        "import pandas as pd\n",
        "from sklearn.metrics import mean_squared_error\n",
        "from math import sqrt\n",
        "\n",
        "# Load dataset\n",
        "series = pd.read_csv('annual-water-usage.csv', header=0, index_col=0, parse_dates=True, squeeze=True)\n",
        "\n",
        "# Split into Development & Validation dataset\n",
        "split_point = len(series) - 10\n",
        "development_ds, validation_ds = series[0:split_point], series[split_point:]\n",
        "print('development_ds %d, validation_ds' % (len(development_ds), len(validation_ds)))\n",
        "dataset.to_csv('dev_ds.csv', header=Flase)\n",
        "\n",
        "# RMSE Performance Measure & Walk-Forward Validation will be used for Model Evaluation\n",
        "\n",
        "# Develop Simple Persistence Model\n",
        "def Persistence_Model(x):\n",
        "  return(x)\n",
        "\n",
        "# Prepare Data\n",
        "X = pd.DataFrame(development_ds)\n",
        "X = X.astype('float32')\n",
        "train_size = int(len(X) * 0.50)\n",
        "train,test = X[0:train_size], X[train_size:]\n",
        "\n",
        "# Walk Forward validation\n",
        "# Create History for Training data\n",
        "history = [x for x in train]\n",
        "# Predict result using Persistence Model\n",
        "predictions = list[]\n",
        "for i in range(len(test)):\n",
        "  yhat = Persistence_Model(x)\n",
        "  predictions.append(yhat)\n",
        "  # Add observation to history\n",
        "  obs = test[i]\n",
        "  history.append(obs)\n",
        "  print('>Predicted=%.3f, Expected=%.3f' % (yhat, obs))\n",
        "# Report Performance\n",
        "rmse = sqrt(mean_squared_error(test, predictions))\n",
        "print('RMSE: %.3f' % rmse)\n",
        "\n"
      ]
    }
  ]
}
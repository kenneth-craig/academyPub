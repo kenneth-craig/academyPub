{
  "nbformat": 4,
  "nbformat_minor": 0,
  "metadata": {
    "colab": {
      "name": "Untitled12.ipynb",
      "provenance": [],
      "authorship_tag": "ABX9TyP/8QS1WXhvo8Tn1xUaCh+Y",
      "include_colab_link": true
    },
    "kernelspec": {
      "name": "python3",
      "display_name": "Python 3"
    },
    "language_info": {
      "name": "python"
    }
  },
  "cells": [
    {
      "cell_type": "markdown",
      "metadata": {
        "id": "view-in-github",
        "colab_type": "text"
      },
      "source": [
        "<a href=\"https://colab.research.google.com/github/kenneth-craig/academyPub/blob/main/ML-XGBoost.ipynb\" target=\"_parent\"><img src=\"https://colab.research.google.com/assets/colab-badge.svg\" alt=\"Open In Colab\"/></a>"
      ]
    },
    {
      "cell_type": "code",
      "execution_count": 43,
      "metadata": {
        "colab": {
          "resources": {
            "http://localhost:8080/nbextensions/google.colab/files.js": {
              "data": "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",
              "ok": true,
              "headers": [
                [
                  "content-type",
                  "application/javascript"
                ]
              ],
              "status": 200,
              "status_text": ""
            }
          },
          "base_uri": "https://localhost:8080/",
          "height": 55
        },
        "id": "O4Jt-HmtbeG4",
        "outputId": "cac90b95-dbde-4503-ec20-f3cae55c14b9"
      },
      "outputs": [
        {
          "output_type": "stream",
          "name": "stdout",
          "text": [
            "Requirement already satisfied: pickle-mixin in /usr/local/lib/python3.7/dist-packages (1.0.2)\n"
          ]
        },
        {
          "output_type": "display_data",
          "data": {
            "text/html": [
              "\n",
              "     <input type=\"file\" id=\"files-914d78ac-5b2c-419b-b28b-7f7aa0e6e39b\" name=\"files[]\" multiple disabled\n",
              "        style=\"border:none\" />\n",
              "     <output id=\"result-914d78ac-5b2c-419b-b28b-7f7aa0e6e39b\">\n",
              "      Upload widget is only available when the cell has been executed in the\n",
              "      current browser session. Please rerun this cell to enable.\n",
              "      </output>\n",
              "      <script src=\"/nbextensions/google.colab/files.js\"></script> "
            ],
            "text/plain": [
              "<IPython.core.display.HTML object>"
            ]
          },
          "metadata": {}
        }
      ],
      "source": [
        "#upload sonar.csv file from local drive and import file\n",
        "# load and summarize the sonar dataset\n",
        "!pip install pickle-mixin\n",
        "import pickle\n",
        "import joblib\n",
        "from google.colab import files\n",
        "\n",
        "file = files.upload()"
      ]
    },
    {
      "cell_type": "code",
      "source": [
        "!pwd\n",
        "!ls"
      ],
      "metadata": {
        "colab": {
          "base_uri": "https://localhost:8080/"
        },
        "id": "WC3z6XFvc3Ec",
        "outputId": "68fa7efe-59b1-4688-d01f-ec87a5e2089e"
      },
      "execution_count": 49,
      "outputs": [
        {
          "output_type": "stream",
          "name": "stdout",
          "text": [
            "/content\n",
            "'pima-indians-diabetes.data (1).csv'   pima.joblib.dat\t sample_data\n",
            " pima-indians-diabetes.data.csv        pima.model.dat\n"
          ]
        }
      ]
    },
    {
      "cell_type": "code",
      "source": [
        ""
      ],
      "metadata": {
        "id": "rXORguCp3CjY"
      },
      "execution_count": null,
      "outputs": []
    },
    {
      "cell_type": "markdown",
      "source": [
        "# Evaluating XGBoost With K-Fold Cross-Validation\n",
        "**Overfitting** occurs where the model fits the data too well. Overfitting a model results in good accuracy for training data set but poor results on new data sets.\n",
        "\n",
        "**Underfitting** occurs when the machine learning algorithm cannot capture the underlying trend of the data where the model does not fit the data well enough as a result of:\n",
        "i) Missing data is not handled\n",
        "\n",
        "ii) No outlier treatment\n",
        "\n",
        "iii) Removal of features that do not contribute much to the predictor variable"
      ],
      "metadata": {
        "id": "hPIJK-riy0s_"
      }
    },
    {
      "cell_type": "code",
      "source": [
        " from numpy import loadtxt\n",
        " from xgboost import XGBClassifier\n",
        " from sklearn.model_selection import StratifiedKFold\n",
        " from sklearn.model_selection import cross_val_score\n",
        "\n",
        " # load data\n",
        " ds = loadtxt('pima-indians-diabetes.data.csv', delimiter=',')\n",
        "\n",
        "# & is column 8 transposed\n",
        "X = ds[:,0:8]\n",
        "Y = ds[:,8]\n",
        "\n",
        "# K-Fold Cross Validation\n",
        "# Note: Stratified gives better Standard Variation than standard Cross Validation because of better distribution of classifications\n",
        "model = XGBClassifier()\n",
        "kfold = StratifiedKFold(n_splits=10)\n",
        "results = cross_val_score(model, X, Y, cv=kfold)\n",
        "\n",
        "# Evaluate prediction\n",
        "print(\"Accuracy: %.2f%% (%.2f%%)\" % (results.mean()*100, results.std()*100))\n"
      ],
      "metadata": {
        "colab": {
          "base_uri": "https://localhost:8080/"
        },
        "id": "Uht9-ws0y6Hq",
        "outputId": "5e3ca2e8-6d21-418b-dfc3-80d8f1b7afd9"
      },
      "execution_count": 14,
      "outputs": [
        {
          "output_type": "stream",
          "name": "stdout",
          "text": [
            "Accuracy: 76.95% (5.88%)\n"
          ]
        }
      ]
    },
    {
      "cell_type": "markdown",
      "source": [
        "# Simple XGBoost Problem\n",
        "**Using pima indians diabetes dataset**\n",
        "\n",
        "Added Model Selection by Feature Importance Importance\n",
        "and ability to Save Model for later use and plots of model\n",
        "and early stop to prevent overfitting\n"
      ],
      "metadata": {
        "id": "luuK0VlFH8g4"
      }
    },
    {
      "cell_type": "code",
      "source": [
        "from xgboost import XGBClassifier\n",
        "from sklearn.model_selection import train_test_split\n",
        "from sklearn.metrics import accuracy_score\n",
        "import numpy as np\n",
        "from xgboost import plot_tree\n",
        "from xgboost import plot_importance\n",
        "from matplotlib import pyplot\n",
        "from sklearn.feature_selection import SelectFromModel\n",
        "\n",
        "ds = np.loadtxt('/content/pima-indians-diabetes.data.csv', delimiter=',')\n",
        "\n",
        "# Split into X & Y datset\n",
        "# X is columns 0..7\n",
        "# & is column 8 transposed\n",
        "X = ds[:,0:8]\n",
        "Y = ds[:,8]\n",
        "\n",
        "# Split into TRAIN & TEST datasets\n",
        "X_train, X_test, y_train, y_test = train_test_split(X, Y, test_size=0.33, random_state=7)\n",
        "\n",
        "#fit model on training data\n",
        "eval_set = [(X_train, y_train), (X_test, y_test)]\n",
        "model = XGBClassifier()\n",
        "model.fit(X_train, y_train, eval_set=eval_set, eval_metric=[\"error\", \"logloss\"], verbose=True)\n",
        "\n",
        "# make predictions for the test data\n",
        "predictions = model.predict(X_test)\n",
        "\n",
        "# evaluation predictions\n",
        "accuracy = accuracy_score(y_test, predictions)\n",
        "print(\"Model Accuracy: %.2f%%\" % (accuracy * 100))\n",
        "\n",
        "# Retieve performance metrics\n",
        "results = model.evals_result()\n",
        "epochs = len(results['validation_0']['error'])\n",
        "x_axis = range(0, epochs)\n",
        "\n",
        "# Plot logloss\n",
        "fig, ax = pyplot.subplots()\n",
        "ax.plot(x_axis, results['validation_0']['logloss'], label='Train')\n",
        "ax.plot(x_axis, results['validation_1']['logloss'], label='Test')\n",
        "ax.legend()\n",
        "pyplot.ylabel('Log Loss')\n",
        "pyplot.title('XGBoost Log Loss')\n",
        "pyplot.show()\n",
        "\n",
        "# Plot Classification Error Rate\n",
        "fig, ax = pyplot.subplots()\n",
        "ax.plot(x_axis, results['validation_0']['error'], label='Train')\n",
        "ax.plot(x_axis, results['validation_1']['error'], label='Test')\n",
        "ax.legend()\n",
        "pyplot.ylabel('Classification Error Rate')\n",
        "pyplot.title('XGBoost Classification Error')\n",
        "pyplot.show()\n",
        "\n",
        "# Plot Decision Tree for model[0], can also be plotted for all other interations of XGBoost\n",
        "plot_tree(model, num_trees=0, rankdir='LR')\n",
        "pyplot.show()\n",
        "\n",
        "# Plot Feature Importance\n",
        "plot_importance(model)\n",
        "#pyplot.bar(range(len(model.feature_importances_)) ,model.feature_importances_)\n",
        "pyplot.show()\n",
        "print(model.feature_importances_)\n",
        "\n",
        "# Tune model using xgboost Feature Selection\n",
        "thresholds = np.sort(model.feature_importances_)\n",
        "\n",
        "for thresh in thresholds:\n",
        "  # Select features using threshold\n",
        "  selection = SelectFromModel(model, threshold=thresh, prefit=True)\n",
        "  sub_X_train = selection.transform(X_train)\n",
        "  # train model\n",
        "  sub_model = XGBClassifier()\n",
        "  sub_model.fit(sub_X_train, y_train)\n",
        "  #evaluate model\n",
        "  sub_X_test = selection.transform(X_test)\n",
        "  new_predictions = sub_model.predict(sub_X_test)\n",
        "  new_accuracy = accuracy_score(y_test, new_predictions)\n",
        "  print(\"Thresh=%.3f, n=%d, New Accuracy: %.2f%%\" % (thresh, sub_X_train.shape[1], new_accuracy*100))\n",
        "\n",
        "# Save model to file for later use\n",
        "# Save using pickle library\n",
        "#pickle.dump(model, open('pima.model.dat', 'wb'))\n",
        "# Save using Joblib library - may be more efficient for larger libraries\n",
        "#joblib.dump(model, \"pima.joblib.dat\")\n",
        "#print(\"Saved model to: pima.model.dat\")"
      ],
      "metadata": {
        "id": "fIitbJLXc6Jz",
        "outputId": "f0123290-2b45-466c-8cc4-7bdf377e90d0",
        "colab": {
          "base_uri": "https://localhost:8080/",
          "height": 1000
        }
      },
      "execution_count": 76,
      "outputs": [
        {
          "output_type": "stream",
          "name": "stdout",
          "text": [
            "[0]\tvalidation_0-error:0.22179\tvalidation_0-logloss:0.655153\tvalidation_1-error:0.259843\tvalidation_1-logloss:0.660186\n",
            "[1]\tvalidation_0-error:0.202335\tvalidation_0-logloss:0.623322\tvalidation_1-error:0.26378\tvalidation_1-logloss:0.634854\n",
            "[2]\tvalidation_0-error:0.196498\tvalidation_0-logloss:0.596814\tvalidation_1-error:0.26378\tvalidation_1-logloss:0.61224\n",
            "[3]\tvalidation_0-error:0.200389\tvalidation_0-logloss:0.574027\tvalidation_1-error:0.255906\tvalidation_1-logloss:0.593118\n",
            "[4]\tvalidation_0-error:0.202335\tvalidation_0-logloss:0.553853\tvalidation_1-error:0.255906\tvalidation_1-logloss:0.578303\n",
            "[5]\tvalidation_0-error:0.202335\tvalidation_0-logloss:0.536789\tvalidation_1-error:0.26378\tvalidation_1-logloss:0.564942\n",
            "[6]\tvalidation_0-error:0.194553\tvalidation_0-logloss:0.521477\tvalidation_1-error:0.23622\tvalidation_1-logloss:0.555113\n",
            "[7]\tvalidation_0-error:0.200389\tvalidation_0-logloss:0.507802\tvalidation_1-error:0.255906\tvalidation_1-logloss:0.54499\n",
            "[8]\tvalidation_0-error:0.194553\tvalidation_0-logloss:0.495257\tvalidation_1-error:0.248031\tvalidation_1-logloss:0.539151\n",
            "[9]\tvalidation_0-error:0.188716\tvalidation_0-logloss:0.484235\tvalidation_1-error:0.248031\tvalidation_1-logloss:0.531819\n",
            "[10]\tvalidation_0-error:0.184825\tvalidation_0-logloss:0.474463\tvalidation_1-error:0.248031\tvalidation_1-logloss:0.526065\n",
            "[11]\tvalidation_0-error:0.180934\tvalidation_0-logloss:0.465102\tvalidation_1-error:0.232283\tvalidation_1-logloss:0.519769\n",
            "[12]\tvalidation_0-error:0.177043\tvalidation_0-logloss:0.457304\tvalidation_1-error:0.228346\tvalidation_1-logloss:0.514979\n",
            "[13]\tvalidation_0-error:0.178988\tvalidation_0-logloss:0.44952\tvalidation_1-error:0.228346\tvalidation_1-logloss:0.50927\n",
            "[14]\tvalidation_0-error:0.177043\tvalidation_0-logloss:0.442121\tvalidation_1-error:0.228346\tvalidation_1-logloss:0.506086\n",
            "[15]\tvalidation_0-error:0.175097\tvalidation_0-logloss:0.435904\tvalidation_1-error:0.228346\tvalidation_1-logloss:0.503565\n",
            "[16]\tvalidation_0-error:0.173152\tvalidation_0-logloss:0.430177\tvalidation_1-error:0.228346\tvalidation_1-logloss:0.503591\n",
            "[17]\tvalidation_0-error:0.173152\tvalidation_0-logloss:0.425058\tvalidation_1-error:0.228346\tvalidation_1-logloss:0.500805\n",
            "[18]\tvalidation_0-error:0.173152\tvalidation_0-logloss:0.419677\tvalidation_1-error:0.224409\tvalidation_1-logloss:0.497605\n",
            "[19]\tvalidation_0-error:0.173152\tvalidation_0-logloss:0.415222\tvalidation_1-error:0.232283\tvalidation_1-logloss:0.495328\n",
            "[20]\tvalidation_0-error:0.167315\tvalidation_0-logloss:0.410329\tvalidation_1-error:0.232283\tvalidation_1-logloss:0.494777\n",
            "[21]\tvalidation_0-error:0.169261\tvalidation_0-logloss:0.405705\tvalidation_1-error:0.23622\tvalidation_1-logloss:0.494274\n",
            "[22]\tvalidation_0-error:0.171206\tvalidation_0-logloss:0.402225\tvalidation_1-error:0.23622\tvalidation_1-logloss:0.493333\n",
            "[23]\tvalidation_0-error:0.173152\tvalidation_0-logloss:0.398076\tvalidation_1-error:0.232283\tvalidation_1-logloss:0.492211\n",
            "[24]\tvalidation_0-error:0.177043\tvalidation_0-logloss:0.395054\tvalidation_1-error:0.228346\tvalidation_1-logloss:0.491936\n",
            "[25]\tvalidation_0-error:0.173152\tvalidation_0-logloss:0.392106\tvalidation_1-error:0.228346\tvalidation_1-logloss:0.490578\n",
            "[26]\tvalidation_0-error:0.177043\tvalidation_0-logloss:0.389044\tvalidation_1-error:0.224409\tvalidation_1-logloss:0.490895\n",
            "[27]\tvalidation_0-error:0.177043\tvalidation_0-logloss:0.385267\tvalidation_1-error:0.224409\tvalidation_1-logloss:0.490646\n",
            "[28]\tvalidation_0-error:0.177043\tvalidation_0-logloss:0.382761\tvalidation_1-error:0.228346\tvalidation_1-logloss:0.491911\n",
            "[29]\tvalidation_0-error:0.175097\tvalidation_0-logloss:0.380311\tvalidation_1-error:0.232283\tvalidation_1-logloss:0.491407\n",
            "[30]\tvalidation_0-error:0.175097\tvalidation_0-logloss:0.376631\tvalidation_1-error:0.228346\tvalidation_1-logloss:0.488828\n",
            "[31]\tvalidation_0-error:0.177043\tvalidation_0-logloss:0.374024\tvalidation_1-error:0.224409\tvalidation_1-logloss:0.487867\n",
            "[32]\tvalidation_0-error:0.178988\tvalidation_0-logloss:0.371973\tvalidation_1-error:0.224409\tvalidation_1-logloss:0.487297\n",
            "[33]\tvalidation_0-error:0.175097\tvalidation_0-logloss:0.369996\tvalidation_1-error:0.228346\tvalidation_1-logloss:0.487562\n",
            "[34]\tvalidation_0-error:0.171206\tvalidation_0-logloss:0.36738\tvalidation_1-error:0.228346\tvalidation_1-logloss:0.487789\n",
            "[35]\tvalidation_0-error:0.16537\tvalidation_0-logloss:0.363693\tvalidation_1-error:0.224409\tvalidation_1-logloss:0.487962\n",
            "[36]\tvalidation_0-error:0.177043\tvalidation_0-logloss:0.362079\tvalidation_1-error:0.228346\tvalidation_1-logloss:0.488218\n",
            "[37]\tvalidation_0-error:0.163424\tvalidation_0-logloss:0.35992\tvalidation_1-error:0.224409\tvalidation_1-logloss:0.489582\n",
            "[38]\tvalidation_0-error:0.169261\tvalidation_0-logloss:0.357945\tvalidation_1-error:0.216535\tvalidation_1-logloss:0.489334\n",
            "[39]\tvalidation_0-error:0.167315\tvalidation_0-logloss:0.355859\tvalidation_1-error:0.220472\tvalidation_1-logloss:0.490968\n",
            "[40]\tvalidation_0-error:0.16537\tvalidation_0-logloss:0.352872\tvalidation_1-error:0.216535\tvalidation_1-logloss:0.48978\n",
            "[41]\tvalidation_0-error:0.167315\tvalidation_0-logloss:0.351036\tvalidation_1-error:0.216535\tvalidation_1-logloss:0.490704\n",
            "[42]\tvalidation_0-error:0.159533\tvalidation_0-logloss:0.349321\tvalidation_1-error:0.216535\tvalidation_1-logloss:0.492369\n",
            "[43]\tvalidation_0-error:0.155642\tvalidation_0-logloss:0.346132\tvalidation_1-error:0.216535\tvalidation_1-logloss:0.492247\n",
            "[44]\tvalidation_0-error:0.151751\tvalidation_0-logloss:0.343088\tvalidation_1-error:0.212598\tvalidation_1-logloss:0.492908\n",
            "[45]\tvalidation_0-error:0.149805\tvalidation_0-logloss:0.340633\tvalidation_1-error:0.224409\tvalidation_1-logloss:0.491999\n",
            "[46]\tvalidation_0-error:0.145914\tvalidation_0-logloss:0.339085\tvalidation_1-error:0.224409\tvalidation_1-logloss:0.491278\n",
            "[47]\tvalidation_0-error:0.143969\tvalidation_0-logloss:0.336401\tvalidation_1-error:0.220472\tvalidation_1-logloss:0.491611\n",
            "[48]\tvalidation_0-error:0.143969\tvalidation_0-logloss:0.33483\tvalidation_1-error:0.224409\tvalidation_1-logloss:0.492568\n",
            "[49]\tvalidation_0-error:0.142023\tvalidation_0-logloss:0.331806\tvalidation_1-error:0.232283\tvalidation_1-logloss:0.494289\n",
            "[50]\tvalidation_0-error:0.136187\tvalidation_0-logloss:0.329741\tvalidation_1-error:0.228346\tvalidation_1-logloss:0.493236\n",
            "[51]\tvalidation_0-error:0.138132\tvalidation_0-logloss:0.328944\tvalidation_1-error:0.224409\tvalidation_1-logloss:0.493717\n",
            "[52]\tvalidation_0-error:0.138132\tvalidation_0-logloss:0.327021\tvalidation_1-error:0.224409\tvalidation_1-logloss:0.493996\n",
            "[53]\tvalidation_0-error:0.138132\tvalidation_0-logloss:0.324874\tvalidation_1-error:0.232283\tvalidation_1-logloss:0.494553\n",
            "[54]\tvalidation_0-error:0.132296\tvalidation_0-logloss:0.323564\tvalidation_1-error:0.228346\tvalidation_1-logloss:0.496089\n",
            "[55]\tvalidation_0-error:0.136187\tvalidation_0-logloss:0.321531\tvalidation_1-error:0.228346\tvalidation_1-logloss:0.497547\n",
            "[56]\tvalidation_0-error:0.134241\tvalidation_0-logloss:0.320381\tvalidation_1-error:0.224409\tvalidation_1-logloss:0.498491\n",
            "[57]\tvalidation_0-error:0.13035\tvalidation_0-logloss:0.318469\tvalidation_1-error:0.224409\tvalidation_1-logloss:0.497816\n",
            "[58]\tvalidation_0-error:0.13035\tvalidation_0-logloss:0.317531\tvalidation_1-error:0.224409\tvalidation_1-logloss:0.497638\n",
            "[59]\tvalidation_0-error:0.13035\tvalidation_0-logloss:0.315915\tvalidation_1-error:0.224409\tvalidation_1-logloss:0.499368\n",
            "[60]\tvalidation_0-error:0.128405\tvalidation_0-logloss:0.313413\tvalidation_1-error:0.224409\tvalidation_1-logloss:0.500054\n",
            "[61]\tvalidation_0-error:0.128405\tvalidation_0-logloss:0.312326\tvalidation_1-error:0.224409\tvalidation_1-logloss:0.500986\n",
            "[62]\tvalidation_0-error:0.126459\tvalidation_0-logloss:0.310292\tvalidation_1-error:0.224409\tvalidation_1-logloss:0.501629\n",
            "[63]\tvalidation_0-error:0.126459\tvalidation_0-logloss:0.309323\tvalidation_1-error:0.224409\tvalidation_1-logloss:0.501099\n",
            "[64]\tvalidation_0-error:0.126459\tvalidation_0-logloss:0.308336\tvalidation_1-error:0.224409\tvalidation_1-logloss:0.500962\n",
            "[65]\tvalidation_0-error:0.126459\tvalidation_0-logloss:0.307393\tvalidation_1-error:0.224409\tvalidation_1-logloss:0.502172\n",
            "[66]\tvalidation_0-error:0.122568\tvalidation_0-logloss:0.305181\tvalidation_1-error:0.220472\tvalidation_1-logloss:0.501892\n",
            "[67]\tvalidation_0-error:0.122568\tvalidation_0-logloss:0.303725\tvalidation_1-error:0.216535\tvalidation_1-logloss:0.502023\n",
            "[68]\tvalidation_0-error:0.118677\tvalidation_0-logloss:0.302821\tvalidation_1-error:0.216535\tvalidation_1-logloss:0.503108\n",
            "[69]\tvalidation_0-error:0.120623\tvalidation_0-logloss:0.30198\tvalidation_1-error:0.216535\tvalidation_1-logloss:0.502674\n",
            "[70]\tvalidation_0-error:0.120623\tvalidation_0-logloss:0.29991\tvalidation_1-error:0.216535\tvalidation_1-logloss:0.502662\n",
            "[71]\tvalidation_0-error:0.122568\tvalidation_0-logloss:0.298055\tvalidation_1-error:0.216535\tvalidation_1-logloss:0.50343\n",
            "[72]\tvalidation_0-error:0.120623\tvalidation_0-logloss:0.296987\tvalidation_1-error:0.216535\tvalidation_1-logloss:0.504037\n",
            "[73]\tvalidation_0-error:0.120623\tvalidation_0-logloss:0.295123\tvalidation_1-error:0.216535\tvalidation_1-logloss:0.504439\n",
            "[74]\tvalidation_0-error:0.118677\tvalidation_0-logloss:0.294368\tvalidation_1-error:0.216535\tvalidation_1-logloss:0.503696\n",
            "[75]\tvalidation_0-error:0.118677\tvalidation_0-logloss:0.293513\tvalidation_1-error:0.216535\tvalidation_1-logloss:0.504477\n",
            "[76]\tvalidation_0-error:0.116732\tvalidation_0-logloss:0.292825\tvalidation_1-error:0.216535\tvalidation_1-logloss:0.504245\n",
            "[77]\tvalidation_0-error:0.116732\tvalidation_0-logloss:0.290549\tvalidation_1-error:0.216535\tvalidation_1-logloss:0.504356\n",
            "[78]\tvalidation_0-error:0.114786\tvalidation_0-logloss:0.288623\tvalidation_1-error:0.216535\tvalidation_1-logloss:0.505392\n",
            "[79]\tvalidation_0-error:0.114786\tvalidation_0-logloss:0.286707\tvalidation_1-error:0.212598\tvalidation_1-logloss:0.505377\n",
            "[80]\tvalidation_0-error:0.114786\tvalidation_0-logloss:0.285468\tvalidation_1-error:0.212598\tvalidation_1-logloss:0.505835\n",
            "[81]\tvalidation_0-error:0.11284\tvalidation_0-logloss:0.284848\tvalidation_1-error:0.212598\tvalidation_1-logloss:0.505566\n",
            "[82]\tvalidation_0-error:0.110895\tvalidation_0-logloss:0.282342\tvalidation_1-error:0.212598\tvalidation_1-logloss:0.507154\n",
            "[83]\tvalidation_0-error:0.11284\tvalidation_0-logloss:0.27989\tvalidation_1-error:0.212598\tvalidation_1-logloss:0.507149\n",
            "[84]\tvalidation_0-error:0.110895\tvalidation_0-logloss:0.278918\tvalidation_1-error:0.208661\tvalidation_1-logloss:0.507921\n",
            "[85]\tvalidation_0-error:0.105058\tvalidation_0-logloss:0.277478\tvalidation_1-error:0.204724\tvalidation_1-logloss:0.509487\n",
            "[86]\tvalidation_0-error:0.103113\tvalidation_0-logloss:0.275833\tvalidation_1-error:0.212598\tvalidation_1-logloss:0.509011\n",
            "[87]\tvalidation_0-error:0.103113\tvalidation_0-logloss:0.275339\tvalidation_1-error:0.212598\tvalidation_1-logloss:0.509105\n",
            "[88]\tvalidation_0-error:0.101167\tvalidation_0-logloss:0.273798\tvalidation_1-error:0.212598\tvalidation_1-logloss:0.510977\n",
            "[89]\tvalidation_0-error:0.105058\tvalidation_0-logloss:0.273078\tvalidation_1-error:0.204724\tvalidation_1-logloss:0.512553\n",
            "[90]\tvalidation_0-error:0.105058\tvalidation_0-logloss:0.272368\tvalidation_1-error:0.208661\tvalidation_1-logloss:0.513818\n",
            "[91]\tvalidation_0-error:0.105058\tvalidation_0-logloss:0.271264\tvalidation_1-error:0.208661\tvalidation_1-logloss:0.513864\n",
            "[92]\tvalidation_0-error:0.103113\tvalidation_0-logloss:0.269753\tvalidation_1-error:0.208661\tvalidation_1-logloss:0.514177\n",
            "[93]\tvalidation_0-error:0.103113\tvalidation_0-logloss:0.269307\tvalidation_1-error:0.208661\tvalidation_1-logloss:0.514497\n",
            "[94]\tvalidation_0-error:0.101167\tvalidation_0-logloss:0.268809\tvalidation_1-error:0.208661\tvalidation_1-logloss:0.513991\n",
            "[95]\tvalidation_0-error:0.101167\tvalidation_0-logloss:0.268196\tvalidation_1-error:0.212598\tvalidation_1-logloss:0.514902\n",
            "[96]\tvalidation_0-error:0.095331\tvalidation_0-logloss:0.266979\tvalidation_1-error:0.204724\tvalidation_1-logloss:0.51644\n",
            "[97]\tvalidation_0-error:0.095331\tvalidation_0-logloss:0.265722\tvalidation_1-error:0.212598\tvalidation_1-logloss:0.516317\n",
            "[98]\tvalidation_0-error:0.097276\tvalidation_0-logloss:0.26507\tvalidation_1-error:0.216535\tvalidation_1-logloss:0.517809\n",
            "[99]\tvalidation_0-error:0.097276\tvalidation_0-logloss:0.264441\tvalidation_1-error:0.220472\tvalidation_1-logloss:0.518922\n",
            "Model Accuracy: 77.95%\n"
          ]
        },
        {
          "output_type": "display_data",
          "data": {
            "image/png": "[encoded data removed]",
            "text/plain": [
              "<Figure size 432x288 with 1 Axes>"
            ]
          },
          "metadata": {
            "needs_background": "light"
          }
        },
        {
          "output_type": "display_data",
          "data": {
            "image/png": "[encoded data removed]",
            "text/plain": [
              "<Figure size 432x288 with 1 Axes>"
            ]
          },
          "metadata": {
            "needs_background": "light"
          }
        },
        {
          "output_type": "display_data",
          "data": {
            "image/png": "[encoded data removed]",
            "text/plain": [
              "<Figure size 432x288 with 1 Axes>"
            ]
          },
          "metadata": {
            "needs_background": "light"
          }
        },
        {
          "output_type": "display_data",
          "data": {
            "image/png": "[encoded data removed]",
            "text/plain": [
              "<Figure size 432x288 with 1 Axes>"
            ]
          },
          "metadata": {
            "needs_background": "light"
          }
        },
        {
          "output_type": "stream",
          "name": "stdout",
          "text": [
            "[0.0775613  0.29183695 0.08493615 0.08040861 0.09472006 0.15973376\n",
            " 0.1021471  0.10865614]\n",
            "Thresh=0.078, n=8, New Accuracy: 77.95%\n",
            "Thresh=0.080, n=7, New Accuracy: 76.38%\n",
            "Thresh=0.085, n=6, New Accuracy: 77.56%\n",
            "Thresh=0.095, n=5, New Accuracy: 76.38%\n",
            "Thresh=0.102, n=4, New Accuracy: 76.38%\n",
            "Thresh=0.109, n=3, New Accuracy: 74.80%\n",
            "Thresh=0.160, n=2, New Accuracy: 75.98%\n",
            "Thresh=0.292, n=1, New Accuracy: 70.08%\n"
          ]
        }
      ]
    },
    {
      "cell_type": "code",
      "source": [
        "rly Stopping"
      ],
      "metadata": {
        "id": "yuuYKiOxjj7P"
      },
      "execution_count": null,
      "outputs": []
    },
    {
      "cell_type": "markdown",
      "source": [
        "**Early Stopping Parameters With XGBoost Determined in Above Example**"
      ],
      "metadata": {
        "id": "umJZlS6jjg_8"
      }
    },
    {
      "cell_type": "code",
      "source": [
        ""
      ],
      "metadata": {
        "id": "dD_9Cg6DjZVQ"
      },
      "execution_count": null,
      "outputs": []
    },
    {
      "cell_type": "markdown",
      "source": [
        "# Using XGBoost to Predict Iris flower\n",
        "**Simple Label Encoding on Output**"
      ],
      "metadata": {
        "id": "f7cqGBe2IR41"
      }
    },
    {
      "cell_type": "code",
      "source": [
        "import pandas as pd\n",
        "from xgboost import XGBClassifier\n",
        "from sklearn.model_selection import train_test_split\n",
        "from sklearn.metrics import accuracy_score\n",
        "from sklearn.preprocessing import LabelEncoder\n",
        "\n",
        "#load dataset\n",
        "df = pd.read_csv('iris.csv', header=None)\n",
        "ds = df.values\n",
        "\n",
        "# Split the data into X and Y\n",
        "X = ds[:,0:4]\n",
        "Y = ds[:,4]\n",
        "\n",
        "# Encode string class values as integers\n",
        "label_encoder = LabelEncoder()\n",
        "label_encoder = label_encoder.fit(Y)\n",
        "le_y = label_encoder.transform(Y)\n",
        "\n",
        "X_train, X_test, y_train, y_test = train_test_split(X, le_y, test_size=0.33, random_state=7)\n",
        "\n",
        "# Fit model on training data\n",
        "model = XGBClassifier()\n",
        "model.fit(X_train, y_train)\n",
        "\n",
        "#make predictions for test data\n",
        "y_predictions = model.predict(X_test)\n",
        "\n",
        "# Evaluate predictions\n",
        "accuracy = accuracy_score(y_test, y_predictions)\n",
        "print(\"Accuracy: %.2f%%\" % (accuracy * 100))\n",
        "\n"
      ],
      "metadata": {
        "id": "JL7CcpsGId9O",
        "outputId": "912252ce-1611-49c8-bb28-529e641e745c",
        "colab": {
          "base_uri": "https://localhost:8080/"
        }
      },
      "execution_count": null,
      "outputs": [
        {
          "output_type": "stream",
          "name": "stdout",
          "text": [
            "Accuracy: 92.00%\n"
          ]
        }
      ]
    },
    {
      "cell_type": "markdown",
      "source": [
        "# XGBoost with Categorical Data\n",
        "**One Hot Encoding**"
      ],
      "metadata": {
        "id": "OvHBwWVU3D6n"
      }
    },
    {
      "cell_type": "code",
      "source": [
        "import pandas as pd\n",
        "from numpy import column_stack\n",
        "from xgboost import XGBClassifier\n",
        "from sklearn.model_selection import train_test_split\n",
        "from sklearn.metrics import accuracy_score\n",
        "from sklearn.preprocessing import LabelEncoder\n",
        "from sklearn.preprocessing import OneHotEncoder\n",
        "\n",
        "# Load data\n",
        "df = pd.read_csv('/content/datasets-uci-breast-cancer.csv', header=None)\n",
        "\n",
        "ds = df.values\n",
        "\n",
        "# split into X & y\n",
        "X = ds[:,0:9]\n",
        "X = X.astype(str)\n",
        "y = ds[:,9]\n",
        "\n",
        "# Encode string input values as integers\n",
        "columns = []\n",
        "for i in range(0, X.shape[1]):\n",
        "  label_encoder = LabelEncoder()\n",
        "  feature = label_encoder.fit_transform(X[:,i])\n",
        "  feature = feature.reshape(X.shape[0], 1)\n",
        "  # print(\"feature_shape before onehot: \", feature.shape)\n",
        "  onehot_encoder = OneHotEncoder(sparse=False, categories='auto')\n",
        "  feature = onehot_encoder.fit_transform(feature)\n",
        "  print(\"feature_shape after onehot: \", feature.shape)\n",
        "  columns.append(feature)\n",
        "  \n",
        "# collapse columns into array\n",
        "encoded_x = column_stack(columns)\n",
        "print(\"encoded X shape: \", encoded_x.shape)\n",
        "\n",
        "# encoding string class values as integers\n",
        "label_encoder = LabelEncoder()\n",
        "label_encoded_y = label_encoder.fit_transform(y)\n",
        "\n",
        "# split data into train and test sets\n",
        "X_train, X_test, y_train, y_test = train_test_split(encoded_x, label_encoded_y, test_size=0.33, random_state=7)\n",
        "\n",
        "# fit model on training data\n",
        "model = XGBClassifier()\n",
        "model.fit(X_train, y_train)\n",
        "print(model)\n",
        "\n",
        "# make predictions for test data\n",
        "y_predictions = model.predict(X_test)\n",
        "\n",
        "# evaluate predictions\n",
        "accuracy = accuracy_score(y_test, y_predictions)\n",
        "print(\"Accuracy: %.2f%%\" % (accuracy * 100.0))\n"
      ],
      "metadata": {
        "id": "JpztmMBQ3f9H",
        "outputId": "0954b51d-8685-4f10-9e29-bb3f62a0f579",
        "colab": {
          "base_uri": "https://localhost:8080/"
        }
      },
      "execution_count": null,
      "outputs": [
        {
          "output_type": "stream",
          "name": "stdout",
          "text": [
            "feature_shape after onehot:  (286, 6)\n",
            "feature_shape after onehot:  (286, 3)\n",
            "feature_shape after onehot:  (286, 11)\n",
            "feature_shape after onehot:  (286, 7)\n",
            "feature_shape after onehot:  (286, 3)\n",
            "feature_shape after onehot:  (286, 3)\n",
            "feature_shape after onehot:  (286, 2)\n",
            "feature_shape after onehot:  (286, 6)\n",
            "feature_shape after onehot:  (286, 2)\n",
            "encoded X shape:  (286, 43)\n",
            "XGBClassifier()\n",
            "Accuracy: 71.58%\n"
          ]
        }
      ]
    },
    {
      "cell_type": "code",
      "source": [
        "# Method for obtaining unique values for categories\n",
        "list_col = df.columns.tolist()\n",
        "for col in list_col:\n",
        "   i = df.iloc[:,col].unique()\n",
        "   print (col, ':- ', i)"
      ],
      "metadata": {
        "id": "rLeMsXK2K3D3"
      },
      "execution_count": null,
      "outputs": []
    },
    {
      "cell_type": "code",
      "source": [
        "# Simplar code as above but used OrdinalLabeling for Age of person instead of OneHot and Accuracy results went down by 1%\n",
        "import pandas as pd\n",
        "from numpy import column_stack\n",
        "from xgboost import XGBClassifier\n",
        "from sklearn.model_selection import train_test_split\n",
        "from sklearn.metrics import accuracy_score\n",
        "from sklearn.compose import ColumnTransformer\n",
        "from sklearn.preprocessing import OneHotEncoder\n",
        "from sklearn.preprocessing import OrdinalEncoder\n",
        "\n",
        "# Load data\n",
        "df = pd.read_csv('/content/datasets-uci-breast-cancer.csv', header=None)\n",
        "\n",
        "ds = df.values\n",
        "\n",
        "# split into X & y\n",
        "X = ds[:,0:9]\n",
        "X = X.astype(str)\n",
        "y = ds[:,9]\n",
        "\n",
        "# Encode string input values as integers\n",
        "t = [('OrdAge', OrdinalEncoder(), [0]), ('hot', OneHotEncoder(), [1,2,3,4,5,6,7,8])]\n",
        "\n",
        "transform = ColumnTransformer(transformers=t)\n",
        "\n",
        "# transform the training data\n",
        "encoded_x = transform.fit_transform(X)\n",
        "\n",
        "# encode y output\n",
        "label_encoder = LabelEncoder()\n",
        "label_encoded_y = label_encoder.fit_transform(y)\n",
        "\n",
        "# Create train/test dataset\n",
        "X_train, X_test, y_train, y_test = train_test_split(encoded_x, label_encoded_y, test_size=0.33, random_state=7)\n",
        "\n",
        "# Fit model on Training data\n",
        "model = XGBClassifier();\n",
        "model.fit(X_train, y_train)\n",
        "print(model)\n",
        "\n",
        "# Evaluate model\n",
        "y_predictions = model.predict(X_test)\n",
        "\n",
        "#evaluate predictions\n",
        "accuracy = accuracy_score(y_test, y_predictions)\n",
        "print(\"Accuracy %.2f%%\" % (accuracy * 100))"
      ],
      "metadata": {
        "id": "r7pCSJxdi0lR",
        "outputId": "d1390961-cc85-45ea-98c6-cc2781d1d1ad",
        "colab": {
          "base_uri": "https://localhost:8080/"
        }
      },
      "execution_count": null,
      "outputs": [
        {
          "output_type": "stream",
          "name": "stdout",
          "text": [
            "XGBClassifier()\n",
            "Accuracy 70.53%\n"
          ]
        }
      ]
    },
    {
      "cell_type": "code",
      "source": [
        "# UNFINISHED CODE - Same code as above but trying to get it working using Pythonic with a For Next loop but didn't get it finished\n",
        "import pandas as pd\n",
        "from numpy import column_stack\n",
        "from xgboost import XGBClassifier\n",
        "from sklearn.model_selection import train_test_split\n",
        "from sklearn.metrics import accuracy_score\n",
        "from sklearn.compose import ColumnTransformer\n",
        "from sklearn.preprocessing import OneHotEncoder\n",
        "from sklearn.preprocessing import OrdinalEncoder\n",
        "\n",
        "# Load data\n",
        "df = pd.read_csv('/content/datasets-uci-breast-cancer.csv', header=None)\n",
        "\n",
        "ds = df.values\n",
        "\n",
        "# split into X & y\n",
        "X = ds[:,0:9]\n",
        "X = X.astype(str)\n",
        "Y = ds[:,9]\n",
        "\n",
        "# Encode string input values as integers\n",
        "t[0] = 'OrdAge', OrdinalEncoder(), [0]\n",
        "\n",
        "t[1] \"'hot', OneHotEncoder(), [1,2,3,4,5,6,7,8]\"\n",
        "t[1] = t1\n",
        "t1 = \"'hot', OneHotEncoder(), [\"\n",
        "\n",
        "for i in range (1, X.shape[1]):\n",
        "  t1 = t1 + str(i)\n",
        "  print(t1)\n",
        "\n",
        "t1 = t1 + X.shape[1] + ']'\n",
        "print(t1)\n",
        "\n",
        "transform = ColumnTransformer(transformers=t)\n",
        "\n",
        "# transform the training data\n",
        "X_encoded = transformer.fit_transform(X)\n",
        "\n",
        "# encode y output\n",
        "label_encoder = LabelEncoder()\n",
        "label_encoded_y = label_encoder.fit_transform(y)\n",
        "\n",
        "# Create train/test dataset\n",
        "X_train, X_test, y_train, y_test = train_test_split(X_encoded, label_encoded_y, test_size=0.33, random_state=7)\n",
        "\n",
        "# Fit model on Training data\n",
        "model = XGBClassifier();\n",
        "model.fit(X_train, y_train)\n",
        "print(model)\n",
        "\n",
        "# Evaluate model\n",
        "y_predictions = model.predict(X_test)\n",
        "\n",
        "#evaluate predictions\n",
        "accuracy = accuracy_score(y_test, y_predictions)\n",
        "print(\"%.2f%%\" % (accuracy * 100))"
      ],
      "metadata": {
        "id": "iRtPCvy8Ach9"
      },
      "execution_count": null,
      "outputs": []
    },
    {
      "cell_type": "code",
      "source": [
        "# UNFINISHED CODE: For Next loop to build command for COLUMN_TRANSFORMATION for OneHot Encoding all columns\n",
        "\n",
        "from numpy import array\n",
        "\n",
        "# Encode string input values as integers\n",
        "\n",
        "t = []\n",
        "#t[0] = 'OrdAge', OrdinalEncoder(), [0]\n",
        "\n",
        "# format of t[1] = 'hot', OneHotEncoder(), [1,2,3,4,5,6,7,8]\n",
        "\n",
        "t1 = \"('hot', OneHotEncoder(), [\"\n",
        "\n",
        "for i in range (1, X.shape[1]):\n",
        "  t1 = t1 + str(i)\n",
        "  \n",
        "  if i != X.shape[1]-1:\n",
        "    t1 = t1 + ','\n",
        "  print(t1)\n",
        "\n",
        "t1 = t1 + ']'\n",
        "print(t1)\n",
        "\n",
        "t[0] = ('OrdAge', OrdinalEncoder(), [0])\n",
        "print('value of t0: ', t[0])\n",
        "#print(type of )\n",
        "print('value of t1: ', t[1])\n",
        "\n",
        "print('value of t', t)"
      ],
      "metadata": {
        "id": "liDWXLHxHt4s"
      },
      "execution_count": null,
      "outputs": []
    },
    {
      "cell_type": "markdown",
      "source": [
        "**XGBoost Example of Handling Missing Data**\n",
        "XGBoost was designed to work with Sparse & Missing Data"
      ],
      "metadata": {
        "id": "fDVZASCbEcT_"
      }
    },
    {
      "cell_type": "code",
      "source": [
        "# XGBoost Example With Missing Data\n",
        "import pandas as pd\n",
        "from xgboost import XGBClassifier\n",
        "from sklearn.model_selection import train_test_split\n",
        "from sklearn.metrics import accuracy_score\n",
        "from sklearn.preprocessing import LabelEncoder\n",
        "\n",
        "# Load dataframe\n",
        "df = pd.read_csv(\"horse-colic.csv\", delim_whitespace=True, header=None)\n",
        "\n",
        "ds = df.values\n",
        "\n",
        "# Split into X and y\n",
        "X = ds[:,0:27]\n",
        "Y = ds[:,27]\n",
        "\n",
        "# Set missing values to NaN.\n",
        "# Setting the value to NaN instead of 0 sees the accuracy score lift by 2% from 83.84% to 85.86%\n",
        "# Imputing with the mean or medium saw the accuracy reduce to 79.80%, the same as setting this value to 1 instead of setting it to 0\n",
        "X[X == '?'] = 0\n",
        "\n",
        "# Also covert data set to Numeric instead of String data type\n",
        "X = X.astype('float32')\n",
        "\n",
        "# Encoded y class values as 0 & 1 integers using Label Encoder\n",
        "label_encoder = LabelEncoder()\n",
        "label_encoded_y = label_encoder.fit_transform(Y)\n",
        "\n",
        "# split data into train and test sets\n",
        "X_train, X_test, y_train, y_test = train_test_split(X, label_encoded_y, test_size=0.33, random_state=7)\n",
        "\n",
        "# Fit model on Training data\n",
        "model = XGBClassifier()\n",
        "model.fit(X_train, y_train)\n",
        "print(model)\n",
        "\n",
        "# Make predictions for Test data\n",
        "predictions = model.predict(X_test)\n",
        "\n",
        "accuracy = accuracy_score(y_test, predictions)\n",
        "print(\"Accuracy %.2f%%\" % (accuracy * 100))\n",
        "\n"
      ],
      "metadata": {
        "id": "iA4u_vSaA--u",
        "outputId": "eae9bff2-d7cf-4f5a-b14f-a9e2a19a3654",
        "colab": {
          "base_uri": "https://localhost:8080/"
        }
      },
      "execution_count": null,
      "outputs": [
        {
          "output_type": "stream",
          "name": "stdout",
          "text": [
            "XGBClassifier()\n",
            "Accuracy 83.84%\n"
          ]
        }
      ]
    }
  ]
}
{
  "nbformat": 4,
  "nbformat_minor": 0,
  "metadata": {
    "colab": {
      "name": "Untitled16.ipynb",
      "provenance": [],
      "authorship_tag": "ABX9TyOyOgpsstHDnsawOtrnELwb",
      "include_colab_link": true
    },
    "kernelspec": {
      "name": "python3",
      "display_name": "Python 3"
    },
    "language_info": {
      "name": "python"
    }
  },
  "cells": [
    {
      "cell_type": "markdown",
      "metadata": {
        "id": "view-in-github",
        "colab_type": "text"
      },
      "source": [
        "<a href=\"https://colab.research.google.com/github/kenneth-craig/academyPub/blob/main/ARIMA--armed-robbery-analysis.ipynb\" target=\"_parent\"><img src=\"https://colab.research.google.com/assets/colab-badge.svg\" alt=\"Open In Colab\"/></a>"
      ]
    },
    {
      "cell_type": "code",
      "source": [
        "# Install latest statsmodel library v0.13\n",
        "!pip install -U statsmodels"
      ],
      "metadata": {
        "id": "tiFAK_SXFkjs"
      },
      "execution_count": null,
      "outputs": []
    },
    {
      "cell_type": "code",
      "source": [
        "# Easiest Way to get file uploaded to Google Colab environment\n",
        "from google.colab import files\n",
        "file = files.upload()"
      ],
      "metadata": {
        "colab": {
          "resources": {
            "http://localhost:8080/nbextensions/google.colab/files.js": {
              "data": "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",
              "ok": true,
              "headers": [
                [
                  "content-type",
                  "application/javascript"
                ]
              ],
              "status": 200,
              "status_text": ""
            }
          },
          "base_uri": "https://localhost:8080/",
          "height": 73
        },
        "id": "yoM7BXqaFoF7",
        "outputId": "e1be7a92-a4d4-4cb2-e50e-4a4c96a39ef0"
      },
      "execution_count": 2,
      "outputs": [
        {
          "output_type": "display_data",
          "data": {
            "text/html": [
              "\n",
              "     <input type=\"file\" id=\"files-18f92248-1601-4e16-b066-d845bfe6f8ee\" name=\"files[]\" multiple disabled\n",
              "        style=\"border:none\" />\n",
              "     <output id=\"result-18f92248-1601-4e16-b066-d845bfe6f8ee\">\n",
              "      Upload widget is only available when the cell has been executed in the\n",
              "      current browser session. Please rerun this cell to enable.\n",
              "      </output>\n",
              "      <script src=\"/nbextensions/google.colab/files.js\"></script> "
            ],
            "text/plain": [
              "<IPython.core.display.HTML object>"
            ]
          },
          "metadata": {}
        },
        {
          "output_type": "stream",
          "name": "stdout",
          "text": [
            "Saving robberies.csv to robberies.csv\n"
          ]
        }
      ]
    },
    {
      "cell_type": "markdown",
      "source": [
        "# End To End ARIMA Sample Using Boston Armed Robery Dataset - Ch30\n",
        "**Problem Description** - Ch 30.2\n",
        "\n",
        "**Build Test Harness** - Ch 30.3\n",
        "\n",
        "**Build Persistence Model for Comparison Purposes** - Ch30.4\n",
        "\n",
        "**Data Analysis** - Ch 30.5\n",
        "\n",
        "**ARIMA Model** - Ch 30.6\n",
        "\n",
        "**Model Validation** - Ch 30.7\n",
        "\n"
      ],
      "metadata": {
        "id": "aX-oShaADpnk"
      }
    },
    {
      "cell_type": "code",
      "execution_count": 4,
      "metadata": {
        "colab": {
          "base_uri": "https://localhost:8080/"
        },
        "id": "MvA-XqGMDhdQ",
        "outputId": "b48132cf-4194-42cd-aa02-851e4c68ef9c"
      },
      "outputs": [
        {
          "output_type": "stream",
          "name": "stdout",
          "text": [
            "count    118.000000\n",
            "mean     196.288136\n",
            "std      128.043602\n",
            "min       29.000000\n",
            "25%       85.500000\n",
            "50%      166.000000\n",
            "75%      296.750000\n",
            "max      500.000000\n",
            "Name: Robberies, dtype: float64\n"
          ]
        }
      ],
      "source": [
        "# Test Harness - Ch 30.3\n",
        "import pandas as pd\n",
        "series = pd.read_csv('robberies.csv', header=0, index_col=0, parse_dates=True, squeeze=True)\n",
        "print(series.describe())\n",
        "\n",
        "# Use latest 1 year (12 months) of data for validation (oot) data being there is no up to date data\n",
        "# Define split-point for oot data\n",
        "split_point = len(series) - 12\n",
        "dev_rob_ds, oot = series[0:split_point], series[split_point:]\n",
        "dev_rob_ds.to_csv('dev_robbery.csv')\n",
        "oot.to_csv('oot_robbery.csv')\n"
      ]
    },
    {
      "cell_type": "markdown",
      "source": [
        "# Problem Description\n",
        "- Predict the number of monthly armed robberies in Boston, USA\n",
        "- The dataset provides the number of monthly armed robberies in Boston from January 1966 to October 1975 (nearly 10 years of data)\n",
        "- There are 118 values and provide a count of armed robberies per month\n",
        "- The problem will use Rolling Forecast type model\n",
        "\n",
        "# Model Evaluation - Performance Measure & Test strategy\n",
        "**Evaluation Method**\n",
        "- Evaluate the performance of predictions using Root Mean Squared (RMSE) - This will give more weight to predictions that are grossly wrong and will have same unit as original data\n",
        "- Any transformations to the data (e.g. box-cox) must be reversed before RMSE is calculated and calculated & reported to make the performance between different mothods directly comparable\n",
        "\n",
        "**Test Strategy**\n",
        "- The dataset is not current therefore 1 year of data will be held back for Validation testing\n",
        "- Will be evaluated using walk-forward validation i.e. one-step forecasts are needed given all available data\n",
        "- Walk forward validation will work as follows:\n",
        "\n",
        " - 50% of data will be held back for training the model\n",
        " - Remaining 50% of the dataset will be iterated and used to test the model\n",
        "- For each step in the Test dataset:\n",
        " - A model will be trained\n",
        " - A one-step prediction made and the prediction stored for later evaluation\n",
        " - The actual observation from the test dataset will be added to the training dataset for the next iteration\n",
        "- the redictions made during the iteration of the test dataset will be evaluated and RMSE score reported\n",
        "- Given the small size of the dataset we will allow a model to be re-trained given all available data prior to each prediction\n"
      ],
      "metadata": {
        "id": "pn5cAbqrIVJE"
      }
    },
    {
      "cell_type": "code",
      "source": [
        "# Evaluate Persitence Model for Armed Robberies\n",
        "import pandas as pd\n",
        "from sklearn.metrics import mean_squared_error\n",
        "from math import sqrt\n",
        "\n",
        "# Load dataset\n",
        "series = pd.read_csv('dev_robbery.csv', header=0, index_col=0, parse_dates=True, squeeze=True)\n",
        "\n",
        "# RMSE Performance Measure & Walk-Forward Validation will be used for Model Evaluation\n",
        "\n",
        "# Prepare Data\n",
        "X = series.values\n",
        "X = X.astype('float32')\n",
        "train_size = int(len(X) * 0.50)\n",
        "train, test = X[0:train_size], X[train_size:]\n",
        "\n",
        "# Walk Forward validation\n",
        "# Create History for Training data\n",
        "history = [x for x in train]\n",
        "# Predict result using Persistence Model\n",
        "predictions = list()\n",
        "for i in range(len(test)):\n",
        "  # Predict\n",
        "  yhat = history[-1]\n",
        "  predictions.append(yhat)\n",
        "  # Add observation to history\n",
        "  obs = test[i]\n",
        "  history.append(obs)\n",
        "  print('>Predicted=%.3f, Expected=%.3f' % (yhat, obs))\n",
        "# Report Performance\n",
        "rmse = sqrt(mean_squared_error(test, predictions))\n",
        "print('RMSE: %.3f' % rmse)\n"
      ],
      "metadata": {
        "id": "ywKy8U7eVhJz"
      },
      "execution_count": null,
      "outputs": []
    },
    {
      "cell_type": "markdown",
      "source": [
        "# Data Analysis\n",
        "\n",
        "1) Summary Statistics\n",
        "\n",
        "2) Line Plot\n",
        "\n",
        "3) Density Plot\n",
        "\n",
        "4) Box & Whisker Plot comparing Annual Data Trends\n",
        "\n",
        "5) Stationary Data test\n",
        "\n",
        "6) ACF & PACF Auto-Correlation Plots"
      ],
      "metadata": {
        "id": "PbSTN0VnZOeL"
      }
    },
    {
      "cell_type": "code",
      "source": [
        "# Perform Data Analysis\n",
        "import pandas as pd\n",
        "from matplotlib import pyplot\n",
        "series = pd.read_csv('dev_robbery.csv', header=0, index_col=0, parse_dates=True, squeeze=True)\n",
        "print(series.describe())\n",
        "# Observation: Large spread of data will likely make highly accurate predictions difficult if it is caused by random fluctuations (e.g. not systematic)\n",
        "\n",
        "# Line plot\n",
        "series.plot()\n",
        "pyplot.show()\n",
        "# Line plot observation:\n",
        "# Increasing trend of robbereis over time\n",
        "# No obvious outliers\n",
        "# Large fluctuations up & down from year to year - later year fluctuations appear larger than earlier years\n",
        "# The trend means the dataset is non-stationary \n",
        "\n",
        "pyplot.figure(1)\n",
        "pyplot.subplot(211)\n",
        "series.hist()\n",
        "pyplot.subplot(212)\n",
        "series.plot(kind='kde')\n",
        "pyplot.show()\n",
        "# Observations:\n",
        "# Distribution is not Guassian\n",
        "# Distribution is left shifted & may be exponential or double Gaussian\n",
        "# May be benefit in exploring power transforms prior to modelling"
      ],
      "metadata": {
        "colab": {
          "base_uri": "https://localhost:8080/",
          "height": 692
        },
        "id": "-rKJsmHVZJBF",
        "outputId": "657b3e00-6d53-4345-bef0-605499e428a3"
      },
      "execution_count": null,
      "outputs": [
        {
          "output_type": "stream",
          "name": "stdout",
          "text": [
            "count    106.000000\n",
            "mean     173.103774\n",
            "std      112.231133\n",
            "min       29.000000\n",
            "25%       74.750000\n",
            "50%      144.500000\n",
            "75%      271.750000\n",
            "max      487.000000\n",
            "Name: Robberies, dtype: float64\n"
          ]
        },
        {
          "output_type": "display_data",
          "data": {
            "image/png": "[encoded data removed]",
            "text/plain": [
              "<Figure size 432x288 with 1 Axes>"
            ]
          },
          "metadata": {
            "needs_background": "light"
          }
        },
        {
          "output_type": "display_data",
          "data": {
            "image/png": "[encoded data removed]",
            "text/plain": [
              "<Figure size 432x288 with 2 Axes>"
            ]
          },
          "metadata": {
            "needs_background": "light"
          }
        }
      ]
    },
    {
      "cell_type": "code",
      "source": [
        "# Box & Whisker Plot\n",
        "# \n",
        "import pandas as pd\n",
        "from matplotlib import pyplot\n",
        "series = pd.read_csv('dev_robbery.csv', header=0, index_col=0, parse_dates=True, squeeze=True)\n",
        "\n",
        "print(series.head())\n",
        "print(series.tail())\n",
        "\n",
        "# Plot trend from 1966 to 1973, ignore 1974 as there is only 10 months of data\n",
        "groups = series['1966':'1973'].groupby(pd.Grouper(freq='A'))\n",
        "years = pd.DataFrame()\n",
        "\n",
        "for name, group in groups:\n",
        "  years[name.year] = group.values\n",
        "\n",
        "years.boxplot()\n",
        "pyplot.show()\n",
        "# Observations\n",
        "# The median value for each year (green line) trend that may not be linear\n",
        "# Spread (middle 50%) of data (blue box) differ i.e. no consistent over time\n",
        "# 1st 2 years of data are quite difference from the rest of the dataset\n",
        "\n",
        "# Conclusion:\n",
        "# Observations suggest that year-to-year fluctuations may not be systematic and hard to model.\n",
        "# May be some benefit in clipping 1st 2 years of data from modelling - if quite different\n",
        "\n",
        "# Additional Analysis\n",
        "# Could persue year-on-year summary statistics & changes in summary statistics from year to year"
      ],
      "metadata": {
        "colab": {
          "base_uri": "https://localhost:8080/",
          "height": 521
        },
        "id": "OZX8mgbifNl_",
        "outputId": "f7eca746-b526-4926-a182-2f0684109163"
      },
      "execution_count": null,
      "outputs": [
        {
          "output_type": "stream",
          "name": "stdout",
          "text": [
            "Month\n",
            "1966-01-01    41\n",
            "1966-02-01    39\n",
            "1966-03-01    50\n",
            "1966-04-01    40\n",
            "1966-05-01    43\n",
            "Name: Robberies, dtype: int64\n",
            "Month\n",
            "1974-06-01    287\n",
            "1974-07-01    355\n",
            "1974-08-01    460\n",
            "1974-09-01    364\n",
            "1974-10-01    487\n",
            "Name: Robberies, dtype: int64\n"
          ]
        },
        {
          "output_type": "display_data",
          "data": {
            "image/png": "[encoded data removed]",
            "text/plain": [
              "<Figure size 432x288 with 1 Axes>"
            ]
          },
          "metadata": {
            "needs_background": "light"
          }
        }
      ]
    },
    {
      "cell_type": "markdown",
      "source": [
        "# ARIMA Model\n",
        "- Stationary Data Test\n",
        "- Augmented Dickey Fuller Test\n",
        "- ACF & PACF Auto_Correlation Plots\n",
        "- Manual Prediction\n",
        "- Grid Search\n",
        "- Review Residual Errors\n",
        "- Box-Cox Log Transformed Dataset"
      ],
      "metadata": {
        "id": "I0rpQE47E0tt"
      }
    },
    {
      "cell_type": "markdown",
      "source": [
        "**Stationary Data Test**\n",
        "\n",
        "By Differencing Data & then Checking augmented Dickey-Fuller Stats test & determine the value for d (p, d, q)"
      ],
      "metadata": {
        "id": "vgMwkHASz_Vn"
      }
    },
    {
      "cell_type": "code",
      "source": [
        "import pandas as pd\n",
        "from statsmodels.tsa.stattools import adfuller\n",
        "\n",
        "# Create a differenced time series\n",
        "def difference(dataset):\n",
        "  diff = list()\n",
        "  for i in range(1, len(dataset)):\n",
        "    value = dataset[i] - dataset[i-1]\n",
        "    diff.append(value)\n",
        "  return pd.Series(diff)\n",
        "\n",
        "series = pd.read_csv('dev_robbery.csv', header=0, index_col=0, parse_dates=True, squeeze=True)\n",
        "X = series.values\n",
        "\n",
        "# Difference data\n",
        "stationary = difference(X)\n",
        "stationary.index = series.index[1:]\n",
        "\n",
        "# Check if stationary\n",
        "result = adfuller(stationary)\n",
        "print('ADF Statistic: %f' % result[0])\n",
        "print('p-value: %f' % result[1])\n",
        "print('Critical Values:')\n",
        "for key, value in result[4].items():\n",
        "  print('\\t%s: %.3f' % (key, value))\n",
        "# Save\n",
        "stationary.to_csv('stastionary_robbery.csv')\n"
      ],
      "metadata": {
        "id": "h4TX-Ho-0jM1",
        "colab": {
          "base_uri": "https://localhost:8080/"
        },
        "outputId": "c2cf15fe-11d1-46ea-d7ec-c1af6d05aa5b"
      },
      "execution_count": 5,
      "outputs": [
        {
          "output_type": "stream",
          "name": "stdout",
          "text": [
            "ADF Statistic: -3.980946\n",
            "p-value: 0.001514\n",
            "Critical Values:\n",
            "\t1%: -3.503\n",
            "\t5%: -2.893\n",
            "\t10%: -2.584\n"
          ]
        }
      ]
    },
    {
      "cell_type": "markdown",
      "source": [
        "**Auto-Correlation Plots - ACF & PACF**\n",
        "\n",
        "Determine values for p & q by running ACF & PACF plots"
      ],
      "metadata": {
        "id": "Q8oXK1pFBFgf"
      }
    },
    {
      "cell_type": "code",
      "source": [
        "import pandas as pd\n",
        "from statsmodels.graphics.tsaplots import plot_acf\n",
        "from statsmodels.graphics.tsaplots import plot_pacf\n",
        "from matplotlib import pyplot\n",
        "\n",
        "# load data\n",
        "series = pd.read_csv('dev_robbery.csv', header=0, index_col=0, parse_dates=True, squeeze=True)\n",
        "\n",
        "pyplot.figure()\n",
        "pyplot.subplot(211)\n",
        "plot_acf(series, lags=20, ax=pyplot.gca())\n",
        "pyplot.subplot(212)\n",
        "plot_pacf(series, lags=20, ax=pyplot.gca())\n",
        "pyplot.show()\n"
      ],
      "metadata": {
        "colab": {
          "base_uri": "https://localhost:8080/",
          "height": 337
        },
        "id": "J6Zzov0_BdCs",
        "outputId": "6682c6ca-aa2f-4ea2-fc9f-e111b31f822a"
      },
      "execution_count": 22,
      "outputs": [
        {
          "output_type": "stream",
          "name": "stderr",
          "text": [
            "/usr/local/lib/python3.7/dist-packages/statsmodels/graphics/tsaplots.py:353: FutureWarning: The default method 'yw' can produce PACF values outside of the [-1,1] interval. After 0.13, the default will change tounadjusted Yule-Walker ('ywm'). You can use this method now by setting method='ywm'.\n",
            "  FutureWarning,\n"
          ]
        },
        {
          "output_type": "display_data",
          "data": {
            "image/png": "[encoded data removed]",
            "text/plain": [
              "<Figure size 432x288 with 2 Axes>"
            ]
          },
          "metadata": {
            "needs_background": "light"
          }
        }
      ]
    },
    {
      "cell_type": "markdown",
      "source": [
        "**ARIMA Model - Manual Prediction of Parameters**"
      ],
      "metadata": {
        "id": "Vk1z0wATJzwa"
      }
    },
    {
      "cell_type": "code",
      "source": [
        "# ARIMA Model - Manual Prediction of Parameters\n",
        "import pandas as pd\n",
        "from sklearn.metrics import mean_squared_error\n",
        "from statsmodels.tsa.arima.model import ARIMA\n",
        "from math import sqrt\n",
        "\n",
        "# load data\n",
        "series = pd.read_csv('dev_robbery.csv', header=0, index_col=0, parse_dates=True, squeeze=True)\n",
        "\n",
        "# prepare data\n",
        "X = series.values\n",
        "X = X.astype('float32')\n",
        "\n",
        "train_size = int(len(X) * 0.50)\n",
        "train, test = X[0:train_size], X[train_size:]\n",
        "\n",
        "# walk-forward validation\n",
        "history = [x for x in train]\n",
        "predictions = list()\n",
        "for i in range(len(test)):\n",
        "  # predict\n",
        "  model = ARIMA(history, order=(0,1,2))\n",
        "  model_fit = model.fit()\n",
        "  yhat = model_fit.forecast()[0]\n",
        "  predictions.append(yhat)\n",
        "  # observation\n",
        "  obs = test[i]\n",
        "  history.append(obs)\n",
        "  print('Predicted=%.3f, Expected=%.3f' % (yhat, obs))\n",
        "# report performance\n",
        "rmse = sqrt(mean_squared_error(test, predictions))\n",
        "print('RMSE: %.3f' %rmse)\n",
        "\n"
      ],
      "metadata": {
        "id": "OJ6_LNaFFBCN"
      },
      "execution_count": null,
      "outputs": []
    },
    {
      "cell_type": "markdown",
      "source": [
        "**ARIMA Model - Grid Search Parameters**"
      ],
      "metadata": {
        "id": "bMWYTp2nR2ac"
      }
    },
    {
      "cell_type": "code",
      "source": [
        "# ARIMA Model - Grid Search\n",
        "import warnings\n",
        "import pandas as pd\n",
        "from statsmodels.tsa.arima.model import ARIMA\n",
        "from sklearn.metrics import mean_squared_error\n",
        "from math import sqrt\n",
        "\n",
        "# evaluate an ARIMA model for a given order (p, d, q) and return RMSE\n",
        "def evaluate_arima_model(X, arima_order):\n",
        "  # prepare training dataset\n",
        "  X = X.astype('float32')\n",
        "  train_size = int(len(X) * 0.50)\n",
        "  train, test = X[0:train_size], X[train_size:]\n",
        "  history = [x for x in train]\n",
        "  # make predictions\n",
        "  predictions = list()\n",
        "  for t in range(len(test)):\n",
        "    model = ARIMA(history, order=arima_order)\n",
        "    model_fit = model.fit()\n",
        "    yhat = model_fit.forecast()[0]\n",
        "    predictions.append(yhat)\n",
        "    obs = test[t]\n",
        "    history.append(obs)\n",
        "  # calculate out of sample error\n",
        "  rmse = sqrt(root_mean_squared_error(test, predictions))\n",
        "  return rmse\n",
        "\n",
        "# evaluate combination of p, d, q values for an ARIMA model\n",
        "def evaluate_models(dataset, p_values, d_values, q_values):\n",
        "  best_score, best_cfg = float('inf'), None\n",
        "  for p in p_values:\n",
        "    for d in d_values:\n",
        "      for q in q_values:\n",
        "        order = (p,d,q)\n",
        "        try:\n",
        "          rmse = evaluate_arima_model(dataset, order)\n",
        "          if rmse < best_score:\n",
        "            best_score, best_cfg = rmse, order\n",
        "          print('ARIMA%s, RMSE=%.3f' % (order, rmse))\n",
        "        except:\n",
        "          continue\n",
        "  print('Best ARIMA%s RMSE=%.3f' % (best_cfg, best_score))\n",
        "\n",
        "# load_dataset\n",
        "series = pd.read_csv('dev_robbery.csv', header=0, index_col=0, parse_dates=True, squeeze=True)\n",
        "# evaluate parameters\n",
        "p_values = range(0,13)\n",
        "d_values = range(0, 4)\n",
        "q_values = range(0, 13)\n",
        "warnings.filterwarnings(\"ignore\")\n",
        "evaluate_models(series.values, p_values, d_values, q_values)\n"
      ],
      "metadata": {
        "id": "pTpHvEm8R7th"
      },
      "execution_count": null,
      "outputs": []
    },
    {
      "cell_type": "markdown",
      "source": [
        "**Model Evaluation - Review Residual Error**"
      ],
      "metadata": {
        "id": "WP8eJI0QaCqg"
      }
    },
    {
      "cell_type": "code",
      "source": [
        "import pandas as pd\n",
        "from statsmodels.tsa.arima.model import ARIMA\n",
        "from statsmodels.graphics.tsaplots import plot_acf\n",
        "from statsmodels.graphics.tsaplots import plot_pacf\n",
        "from matplotlib import pyplot\n",
        "\n",
        "# load data\n",
        "series = pd.read_csv('dev_robbery.csv', header=0, index_col=0, parse_dates=True, squeeze=True)\n",
        "\n",
        "# prepare data\n",
        "X = series.values\n",
        "X = X.astype('float32')\n",
        "train_size = int(len(X) * 0.50)\n",
        "train, test = X[0:train_size], X[train_size:]\n",
        "\n",
        "# walk-forward validation\n",
        "history = [x for x in train]\n",
        "predictions = list()\n",
        "residuals = list()\n",
        "for i in range(len(test)):\n",
        "  # predict\n",
        "  model = ARIMA(history, order=(0,1,2))\n",
        "  model_fit = model.fit()\n",
        "  yhat = model_fit.forecast()[0]\n",
        "  predictions.append(yhat)\n",
        "  # observations\n",
        "  obs = test[i]\n",
        "  history.append(obs)\n",
        "  # errors\n",
        "  #residual = test[i] - predictions[i]\n",
        "  #residuals.append(residual)\n",
        "\n",
        "residuals = [test[i]-predictions[i] for i in range(len(test))]\n",
        "residuals = pd.DataFrame(residuals)\n",
        "\n",
        "# plots (density & history)\n",
        "pyplot.figure()\n",
        "pyplot.subplot(211)\n",
        "residuals.hist(ax=pyplot.gca())\n",
        "pyplot.subplot(212)\n",
        "residuals.plot(kind='kde', ax=pyplot.gca())\n",
        "pyplot.show()\n",
        "\n",
        "# Check residuals for Correlation\n",
        "# plots (acf & pacf)\n",
        "pyplot.figure()\n",
        "pyplot.subplot(211)\n",
        "plot_acf(residuals, lags=25, ax=pyplot.gca())\n",
        "pyplot.subplot(212)\n",
        "plot_pacf(residuals, lags=25, ax=pyplot.gca())\n",
        "pyplot.show()"
      ],
      "metadata": {
        "id": "M2dxlIl2aXop",
        "colab": {
          "base_uri": "https://localhost:8080/",
          "height": 602
        },
        "outputId": "1cf3a3be-2b09-4744-8d33-13c95fe1db4e"
      },
      "execution_count": 50,
      "outputs": [
        {
          "output_type": "display_data",
          "data": {
            "image/png": "[encoded data removed]",
            "text/plain": [
              "<Figure size 432x288 with 2 Axes>"
            ]
          },
          "metadata": {
            "needs_background": "light"
          }
        },
        {
          "output_type": "stream",
          "name": "stderr",
          "text": [
            "/usr/local/lib/python3.7/dist-packages/statsmodels/graphics/tsaplots.py:353: FutureWarning: The default method 'yw' can produce PACF values outside of the [-1,1] interval. After 0.13, the default will change tounadjusted Yule-Walker ('ywm'). You can use this method now by setting method='ywm'.\n",
            "  FutureWarning,\n"
          ]
        },
        {
          "output_type": "display_data",
          "data": {
            "image/png": "[encoded data removed]",
            "text/plain": [
              "<Figure size 432x288 with 2 Axes>"
            ]
          },
          "metadata": {
            "needs_background": "light"
          }
        }
      ]
    },
    {
      "cell_type": "markdown",
      "source": [
        "**Box-Cox Transformed Dataset**\n",
        "\n",
        "Box-Cox is a method able to evaluate a suite of power transforms (log, square root, reciprocal transform etc)"
      ],
      "metadata": {
        "id": "0d7pJwnuhPtf"
      }
    },
    {
      "cell_type": "code",
      "source": [
        "import pandas as pd\n",
        "from scipy.stats import boxcox\n",
        "from matplotlib import pyplot\n",
        "from statsmodels.graphics.gofplots import qqplot\n",
        "\n",
        "series = pd.read_csv('dev_robbery.csv', header=0, index_col=0, parse_dates=True, squeeze=True)\n",
        "\n",
        "# prepare data\n",
        "X = series.values\n",
        "# Log transform\n",
        "transformed, lam = boxcox(X)\n",
        "print('Lambda: %f' % lam)\n",
        "# Line plot\n",
        "pyplot.subplot(311)\n",
        "pyplot.plot(transformed)\n",
        "# Histogram\n",
        "pyplot.subplot(312)\n",
        "pyplot.hist(transformed)\n",
        "# q-q plot\n",
        "pyplot.subplot(313)\n",
        "qqplot(transformed, line='r', ax=pyplot.gca())\n",
        "pyplot.show()\n"
      ],
      "metadata": {
        "id": "NGLv07U6h2D4",
        "colab": {
          "base_uri": "https://localhost:8080/",
          "height": 297
        },
        "outputId": "7b035215-73f6-4dc3-d20f-ea14316b55cc"
      },
      "execution_count": 21,
      "outputs": [
        {
          "output_type": "stream",
          "name": "stdout",
          "text": [
            "Lambda: 0.260060\n"
          ]
        },
        {
          "output_type": "display_data",
          "data": {
            "image/png": "[encoded data removed]",
            "text/plain": [
              "<Figure size 432x288 with 3 Axes>"
            ]
          },
          "metadata": {
            "needs_background": "light"
          }
        }
      ]
    },
    {
      "cell_type": "markdown",
      "source": [
        "**ARIMA Model with Box-Cox (Log) Transform Applied to Data**"
      ],
      "metadata": {
        "id": "um1wFKXCN6UN"
      }
    },
    {
      "cell_type": "code",
      "source": [
        "import pandas as pd\n",
        "from sklearn.metrics import mean_squared_error\n",
        "from statsmodels.tsa.arima.model import ARIMA\n",
        "import math as ml\n",
        "from scipy.stats import boxcox\n",
        "\n",
        "# inverse of box-cox (log) transform\n",
        "def boxcox_inverse(value, lam):\n",
        "  if lam == 0:\n",
        "    return ml.exp(value)\n",
        "  return ml.exp(ml.log(lam * value + 1) / lam)\n",
        "\n",
        "# load data\n",
        "series = pd.read_csv('dev_robbery.csv', header=0, index_col=0, parse_dates=True, squeeze=True)\n",
        "\n",
        "# prepare data\n",
        "X = series.values\n",
        "X = X.astype('float32')\n",
        "\n",
        "train_size = int(len(X) * 0.50)\n",
        "train, test = X[0:train_size], X[train_size:]\n",
        "\n",
        "# walk-forward validation\n",
        "history = [x for x in train]\n",
        "predictions = list()\n",
        "for i in range(len(test)):\n",
        "  # transform data\n",
        "  transformed, lam = boxcox(history)\n",
        "  if lam < -5:\n",
        "    transformed, lam = history, 1\n",
        "  # predict\n",
        "  model = ARIMA(transformed, order=(0,1,2))\n",
        "  model_fit = model.fit()\n",
        "  yhat = model_fit.forecast()[0]\n",
        "  # Invert transformed prediction\n",
        "  yhat = boxcox_inverse(yhat, lam)\n",
        "  predictions.append(yhat)\n",
        "  # observation\n",
        "  obs = test[i]\n",
        "  history.append(obs)\n",
        "  print('Predicted=%.3f, Expected=%.3f' % (yhat, obs))\n",
        "# report performance\n",
        "rmse = ml.sqrt(mean_squared_error(test, predictions))\n",
        "print('RMSE: %.3f' %rmse)\n",
        "\n",
        "# Conclusion: The new RMSE of the model on the transformed data is smaller error than \n",
        "# untransformed but only slightly, this may or may not be statistically significant.\n"
      ],
      "metadata": {
        "id": "a8JRnyrEODM6"
      },
      "execution_count": null,
      "outputs": []
    },
    {
      "cell_type": "markdown",
      "source": [
        "# Model Validation\n",
        "- Finalize Model\n",
        "- Make Prediction using oot data\n",
        "- Validate Model"
      ],
      "metadata": {
        "id": "s2H1ag1Ge05u"
      }
    },
    {
      "cell_type": "markdown",
      "source": [
        "**Finalize Model**\n",
        "\n",
        "Train & save final model using entire (train & test) dataset"
      ],
      "metadata": {
        "id": "iIgL2hSmkL7Y"
      }
    },
    {
      "cell_type": "code",
      "source": [
        "# Finalise model and save to file\n",
        "import pandas as pd\n",
        "from statsmodels.tsa.arima.model import ARIMA\n",
        "from scipy.stats import boxcox\n",
        "import numpy as np\n",
        "\n",
        "# load data\n",
        "series = pd.read_csv('dev_robbery.csv', header=0, index_col=0, parse_dates=True, squeeze=True)\n",
        "\n",
        "#prepare data\n",
        "X = series.values\n",
        "X = X.astype('float32')\n",
        "# transform data\n",
        "transformed, lam = boxcox(X)\n",
        "# fit model\n",
        "model = ARIMA(transformed, order=(0,1,2))\n",
        "model_fit = model.fit()\n",
        "# save model, saves ARIMAResult object\n",
        "model_fit.save('model.pkl')\n",
        "np.save('model_lambda.npy', [lam])\n"
      ],
      "metadata": {
        "colab": {
          "base_uri": "https://localhost:8080/"
        },
        "id": "uLBDhZSnfZPj",
        "outputId": "41c218b7-c7d4-4a0c-894c-937be3e60b8d"
      },
      "execution_count": 35,
      "outputs": [
        {
          "output_type": "stream",
          "name": "stderr",
          "text": [
            "/usr/local/lib/python3.7/dist-packages/numpy/core/_methods.py:233: RuntimeWarning: overflow encountered in multiply\n",
            "  x = um.multiply(x, x, out=x)\n"
          ]
        }
      ]
    },
    {
      "cell_type": "markdown",
      "source": [
        "**Making Predictions**\n",
        "\n",
        "Load the saved (finalised) model and make single forecast"
      ],
      "metadata": {
        "id": "2ATkxAk0kES0"
      }
    },
    {
      "cell_type": "code",
      "source": [
        "# Load the model and make a prediction\n",
        "from statsmodels.tsa.arima.model import ARIMAResults\n",
        "import math as ml\n",
        "import numpy as np\n",
        "\n",
        "# invert box-cox transform\n",
        "def boxcox_inverse(value, lam):\n",
        "  if lam == 0:\n",
        "    return ml.exp(value)\n",
        "  return ml.exp(ml.log(lam * value + 1) / lam)\n",
        "\n",
        "model_fit = ARIMAResults.load('model.pkl')\n",
        "lam = np.load('model_lambda.npy')\n",
        "yhat = model_fit.forecast()[0]\n",
        "yhat = boxcox_inverse(yhat, lam)\n",
        "print('Predicted: %.3f' % yhat)\n"
      ],
      "metadata": {
        "colab": {
          "base_uri": "https://localhost:8080/"
        },
        "id": "CHjLxRRgksr5",
        "outputId": "2acd5e8c-31e8-4bf4-b2b4-119b168d79e1"
      },
      "execution_count": 49,
      "outputs": [
        {
          "output_type": "stream",
          "name": "stdout",
          "text": [
            "Predicted: 452.365\n"
          ]
        }
      ]
    },
    {
      "cell_type": "markdown",
      "source": [
        "**Validate Model**\n",
        "\n",
        "Load & validate the final model"
      ],
      "metadata": {
        "id": "06JWpXdKr7cN"
      }
    },
    {
      "cell_type": "code",
      "source": [
        "import pandas as pd\n",
        "import numpy as np\n",
        "from matplotlib import pyplot\n",
        "from sklearn.metrics import mean_squared_error\n",
        "from statsmodels.tsa.arima.model import ARIMA\n",
        "from statsmodels.tsa.arima.model import ARIMAResults\n",
        "from sklearn.metrics import mean_squared_error\n",
        "from scipy.stats import boxcox\n",
        "import math as ml\n",
        "\n",
        "# inverse of box-cox (log) transform\n",
        "def boxcox_inverse(value, lam):\n",
        "  if lam == 0:\n",
        "    return ml.exp(value)\n",
        "  return ml.exp(ml.log(lam * value + 1) / lam)\n",
        "\n",
        "# load data\n",
        "dev_series = pd.read_csv('dev_robbery.csv', header=0, index_col=0, parse_dates=True, squeeze=True)\n",
        "oot_series = pd.read_csv('oot_robbery.csv', header=0, index_col=0, parse_dates=True, squeeze=True)\n",
        "X = dev_series.values.astype('float32')\n",
        "expected_y = oot_series.values.astype('float32')\n",
        "# load model\n",
        "model_fit = ARIMAResults.load('model.pkl')\n",
        "lam = np.load('model_lambda.npy')\n",
        "# make 1st prediction\n",
        "predictions = list()\n",
        "yhat = model_fit.forecast()[0]\n",
        "# invert transformed prediction\n",
        "yhat = boxcox_inverse(yhat, lam)\n",
        "predictions.append(yhat)\n",
        "history.append(expected_y[0])\n",
        "print('>Predicted=%.3f, Expected=%.3f' % (yhat, expected_y[0]))\n",
        "# rolling forecasts\n",
        "for i in range(1, len(expected_y)):\n",
        "  # transform\n",
        "  transformed, lam = boxcox(history)\n",
        "  if lam < -5:\n",
        "    transformed, lam = history, 1\n",
        "  # predict\n",
        "  model = ARIMA(transformed, order=(0,1,2))\n",
        "  model_fit = model.fit()\n",
        "  yhat = model_fit.forecast()[0]\n",
        "  # invert of the transformed prediction\n",
        "  yhat = boxcox_inverse(yhat, lam)\n",
        "  predictions.append(yhat)\n",
        "  # observations\n",
        "  obs = expected_y[i]\n",
        "  history.append(obs)\n",
        "  print('>Predicted:%.3f, Expected=%.3f' % (yhat, obs))\n",
        "# report performance\n",
        "rmse = ml.sqrt(mean_squared_error(expected_y, predictions))\n",
        "print('RMSE: %.3f' % rmse)\n",
        "pyplot.plot(expected_y, label='Expected value')\n",
        "pyplot.plot(predictions, color='red', label='Predicted value')\n",
        "pyplot.legend()\n",
        "pyplot.show()\n"
      ],
      "metadata": {
        "colab": {
          "base_uri": "https://localhost:8080/",
          "height": 539
        },
        "id": "yNZOpg-5sEDQ",
        "outputId": "8d417c70-6052-435b-924d-a40837752180"
      },
      "execution_count": 57,
      "outputs": [
        {
          "output_type": "stream",
          "name": "stdout",
          "text": [
            ">Predicted=452.365, Expected=452.000\n",
            ">Predicted:436.889, Expected=391.000\n",
            ">Predicted:396.086, Expected=500.000\n"
          ]
        },
        {
          "output_type": "stream",
          "name": "stderr",
          "text": [
            "/usr/local/lib/python3.7/dist-packages/numpy/core/_methods.py:233: RuntimeWarning: overflow encountered in multiply\n",
            "  x = um.multiply(x, x, out=x)\n"
          ]
        },
        {
          "output_type": "stream",
          "name": "stdout",
          "text": [
            ">Predicted:476.645, Expected=451.000\n",
            ">Predicted:439.849, Expected=375.000\n",
            ">Predicted:399.369, Expected=372.000\n",
            ">Predicted:394.017, Expected=302.000\n",
            ">Predicted:334.232, Expected=316.000\n",
            ">Predicted:339.089, Expected=398.000\n",
            ">Predicted:386.197, Expected=394.000\n",
            ">Predicted:378.398, Expected=431.000\n",
            ">Predicted:412.451, Expected=431.000\n",
            "RMSE: 53.196\n"
          ]
        },
        {
          "output_type": "display_data",
          "data": {
            "image/png": "[encoded data removed]",
            "text/plain": [
              "<Figure size 432x288 with 1 Axes>"
            ]
          },
          "metadata": {
            "needs_background": "light"
          }
        }
      ]
    }
  ]
}
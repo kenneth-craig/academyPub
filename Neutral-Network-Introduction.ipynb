{
  "nbformat": 4,
  "nbformat_minor": 0,
  "metadata": {
    "colab": {
      "name": "Untitled18.ipynb",
      "provenance": [],
      "authorship_tag": "ABX9TyOkF8RZDBRxNHfQtbmdIApi",
      "include_colab_link": true
    },
    "kernelspec": {
      "name": "python3",
      "display_name": "Python 3"
    },
    "language_info": {
      "name": "python"
    }
  },
  "cells": [
    {
      "cell_type": "markdown",
      "metadata": {
        "id": "view-in-github",
        "colab_type": "text"
      },
      "source": [
        "<a href=\"https://colab.research.google.com/github/kenneth-craig/academyPub/blob/main/Neutral-Network-Introduction.ipynb\" target=\"_parent\"><img src=\"https://colab.research.google.com/assets/colab-badge.svg\" alt=\"Open In Colab\"/></a>"
      ]
    },
    {
      "cell_type": "code",
      "source": [
        "# Easiest Way to get file uploaded to Google Colab environment\n",
        "from google.colab import files\n",
        "file = files.upload()\n"
      ],
      "metadata": {
        "id": "dvv6CaEmtPeE",
        "outputId": "8a5289b4-7118-4087-d768-b78b7fb2a99e",
        "colab": {
          "resources": {
            "http://localhost:8080/nbextensions/google.colab/files.js": {
              "data": "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",
              "ok": true,
              "headers": [
                [
                  "content-type",
                  "application/javascript"
                ]
              ],
              "status": 200,
              "status_text": ""
            }
          },
          "base_uri": "https://localhost:8080/",
          "height": 73
        }
      },
      "execution_count": 1,
      "outputs": [
        {
          "output_type": "display_data",
          "data": {
            "text/plain": [
              "<IPython.core.display.HTML object>"
            ],
            "text/html": [
              "\n",
              "     <input type=\"file\" id=\"files-6d05de13-5b97-4948-a491-0d46d1e980ce\" name=\"files[]\" multiple disabled\n",
              "        style=\"border:none\" />\n",
              "     <output id=\"result-6d05de13-5b97-4948-a491-0d46d1e980ce\">\n",
              "      Upload widget is only available when the cell has been executed in the\n",
              "      current browser session. Please rerun this cell to enable.\n",
              "      </output>\n",
              "      <script src=\"/nbextensions/google.colab/files.js\"></script> "
            ]
          },
          "metadata": {}
        },
        {
          "output_type": "stream",
          "name": "stdout",
          "text": [
            "Saving pima-indians-diabetes.data.csv to pima-indians-diabetes.data.csv\n"
          ]
        }
      ]
    },
    {
      "cell_type": "markdown",
      "source": [
        "# **THEANO LIBRARY**\n",
        "\n",
        "**Theano for efficient numerical computation optimisation library**"
      ],
      "metadata": {
        "id": "k3Burgxytj_t"
      }
    },
    {
      "cell_type": "code",
      "execution_count": null,
      "metadata": {
        "colab": {
          "base_uri": "https://localhost:8080/"
        },
        "id": "2YQFUYq2o6bJ",
        "outputId": "c96c3a56-930d-4411-c448-07f44c88124e"
      },
      "outputs": [
        {
          "output_type": "stream",
          "name": "stdout",
          "text": [
            "Collecting Theano\n",
            "  Downloading Theano-1.0.5.tar.gz (2.8 MB)\n",
            "\u001b[K     |████████████████████████████████| 2.8 MB 4.1 MB/s \n",
            "\u001b[?25hRequirement already satisfied: numpy>=1.9.1 in /usr/local/lib/python3.7/dist-packages (from Theano) (1.21.5)\n",
            "Requirement already satisfied: scipy>=0.14 in /usr/local/lib/python3.7/dist-packages (from Theano) (1.4.1)\n",
            "Requirement already satisfied: six>=1.9.0 in /usr/local/lib/python3.7/dist-packages (from Theano) (1.15.0)\n",
            "Building wheels for collected packages: Theano\n",
            "  Building wheel for Theano (setup.py) ... \u001b[?25l\u001b[?25hdone\n",
            "  Created wheel for Theano: filename=Theano-1.0.5-py3-none-any.whl size=2668111 sha256=60dcb18eced5f023b2c0cbe725fa894add166b15fe5a2a38ddfc309b524c4530\n",
            "  Stored in directory: /root/.cache/pip/wheels/26/68/6f/745330367ce7822fe0cd863712858151f5723a0a5e322cc144\n",
            "Successfully built Theano\n",
            "Installing collected packages: Theano\n",
            "Successfully installed Theano-1.0.5\n"
          ]
        }
      ],
      "source": [
        "# Install Theano for efficient numerical computation optimisation library\n",
        "!sudo pip install Theano"
      ]
    },
    {
      "cell_type": "code",
      "source": [
        "# example of Theano library\n",
        "import theano\n",
        "from theano import tensor\n",
        "# declare two symbolic floating-point scalars\n",
        "a = tensor.dscalar()\n",
        "b = tensor.dscalar()\n",
        "# create a simple symbolic expression\n",
        "c = a + b\n",
        "# convert the expression into a callable object that takes (a,b) and computes c\n",
        "f = theano.function([a,b], c)\n",
        "result = f(1.5, 2.5)\n",
        "print(result)"
      ],
      "metadata": {
        "colab": {
          "base_uri": "https://localhost:8080/",
          "height": 396
        },
        "id": "gg84j4V3pnSC",
        "outputId": "ef2c7e6a-a2b2-4b6c-f21a-5d1b84bbc8aa"
      },
      "execution_count": null,
      "outputs": [
        {
          "output_type": "error",
          "ename": "TypeError",
          "evalue": "ignored",
          "traceback": [
            "\u001b[0;31m---------------------------------------------------------------------------\u001b[0m",
            "\u001b[0;31mTypeError\u001b[0m                                 Traceback (most recent call last)",
            "\u001b[0;32m<ipython-input-2-f820b0c67979>\u001b[0m in \u001b[0;36m<module>\u001b[0;34m()\u001b[0m\n\u001b[1;32m      8\u001b[0m \u001b[0mc\u001b[0m \u001b[0;34m=\u001b[0m \u001b[0ma\u001b[0m \u001b[0;34m+\u001b[0m \u001b[0mb\u001b[0m\u001b[0;34m\u001b[0m\u001b[0;34m\u001b[0m\u001b[0m\n\u001b[1;32m      9\u001b[0m \u001b[0;31m# convert the expression into a callable object that takes (a,b) and computes c\u001b[0m\u001b[0;34m\u001b[0m\u001b[0;34m\u001b[0m\u001b[0;34m\u001b[0m\u001b[0m\n\u001b[0;32m---> 10\u001b[0;31m \u001b[0mf\u001b[0m \u001b[0;34m=\u001b[0m \u001b[0mtheano\u001b[0m\u001b[0;34m.\u001b[0m\u001b[0mfunction\u001b[0m\u001b[0;34m(\u001b[0m\u001b[0;34m[\u001b[0m\u001b[0ma\u001b[0m\u001b[0;34m,\u001b[0m\u001b[0mb\u001b[0m\u001b[0;34m]\u001b[0m\u001b[0;34m,\u001b[0m \u001b[0mc\u001b[0m\u001b[0;34m)\u001b[0m\u001b[0;34m\u001b[0m\u001b[0;34m\u001b[0m\u001b[0m\n\u001b[0m\u001b[1;32m     11\u001b[0m \u001b[0mresult\u001b[0m \u001b[0;34m=\u001b[0m \u001b[0mf\u001b[0m\u001b[0;34m(\u001b[0m\u001b[0;36m1.5\u001b[0m\u001b[0;34m,\u001b[0m \u001b[0;36m2.5\u001b[0m\u001b[0;34m)\u001b[0m\u001b[0;34m\u001b[0m\u001b[0;34m\u001b[0m\u001b[0m\n\u001b[1;32m     12\u001b[0m \u001b[0mprint\u001b[0m\u001b[0;34m(\u001b[0m\u001b[0mresult\u001b[0m\u001b[0;34m)\u001b[0m\u001b[0;34m\u001b[0m\u001b[0;34m\u001b[0m\u001b[0m\n",
            "\u001b[0;32m/usr/local/lib/python3.7/dist-packages/theano/compile/function/__init__.py\u001b[0m in \u001b[0;36mfunction\u001b[0;34m(inputs, outputs, mode, updates, givens, no_default_updates, accept_inplace, name, rebuild_strict, allow_input_downcast, profile, on_unused_input)\u001b[0m\n\u001b[1;32m    348\u001b[0m             \u001b[0mon_unused_input\u001b[0m\u001b[0;34m=\u001b[0m\u001b[0mon_unused_input\u001b[0m\u001b[0;34m,\u001b[0m\u001b[0;34m\u001b[0m\u001b[0;34m\u001b[0m\u001b[0m\n\u001b[1;32m    349\u001b[0m             \u001b[0mprofile\u001b[0m\u001b[0;34m=\u001b[0m\u001b[0mprofile\u001b[0m\u001b[0;34m,\u001b[0m\u001b[0;34m\u001b[0m\u001b[0;34m\u001b[0m\u001b[0m\n\u001b[0;32m--> 350\u001b[0;31m             \u001b[0moutput_keys\u001b[0m\u001b[0;34m=\u001b[0m\u001b[0moutput_keys\u001b[0m\u001b[0;34m,\u001b[0m\u001b[0;34m\u001b[0m\u001b[0;34m\u001b[0m\u001b[0m\n\u001b[0m\u001b[1;32m    351\u001b[0m         )\n\u001b[1;32m    352\u001b[0m     \u001b[0;32mreturn\u001b[0m \u001b[0mfn\u001b[0m\u001b[0;34m\u001b[0m\u001b[0;34m\u001b[0m\u001b[0m\n",
            "\u001b[0;32m/usr/local/lib/python3.7/dist-packages/theano/compile/function/pfunc.py\u001b[0m in \u001b[0;36mpfunc\u001b[0;34m(params, outputs, mode, updates, givens, no_default_updates, accept_inplace, name, rebuild_strict, allow_input_downcast, profile, on_unused_input, output_keys)\u001b[0m\n\u001b[1;32m    425\u001b[0m     \u001b[0;31m# transform params into theano.compile.In objects.\u001b[0m\u001b[0;34m\u001b[0m\u001b[0;34m\u001b[0m\u001b[0;34m\u001b[0m\u001b[0m\n\u001b[1;32m    426\u001b[0m     inputs = [\n\u001b[0;32m--> 427\u001b[0;31m         \u001b[0m_pfunc_param_to_in\u001b[0m\u001b[0;34m(\u001b[0m\u001b[0mp\u001b[0m\u001b[0;34m,\u001b[0m \u001b[0mallow_downcast\u001b[0m\u001b[0;34m=\u001b[0m\u001b[0mallow_input_downcast\u001b[0m\u001b[0;34m)\u001b[0m \u001b[0;32mfor\u001b[0m \u001b[0mp\u001b[0m \u001b[0;32min\u001b[0m \u001b[0mparams\u001b[0m\u001b[0;34m\u001b[0m\u001b[0;34m\u001b[0m\u001b[0m\n\u001b[0m\u001b[1;32m    428\u001b[0m     ]\n\u001b[1;32m    429\u001b[0m \u001b[0;34m\u001b[0m\u001b[0m\n",
            "\u001b[0;32m/usr/local/lib/python3.7/dist-packages/theano/compile/function/pfunc.py\u001b[0m in \u001b[0;36m<listcomp>\u001b[0;34m(.0)\u001b[0m\n\u001b[1;32m    425\u001b[0m     \u001b[0;31m# transform params into theano.compile.In objects.\u001b[0m\u001b[0;34m\u001b[0m\u001b[0;34m\u001b[0m\u001b[0;34m\u001b[0m\u001b[0m\n\u001b[1;32m    426\u001b[0m     inputs = [\n\u001b[0;32m--> 427\u001b[0;31m         \u001b[0m_pfunc_param_to_in\u001b[0m\u001b[0;34m(\u001b[0m\u001b[0mp\u001b[0m\u001b[0;34m,\u001b[0m \u001b[0mallow_downcast\u001b[0m\u001b[0;34m=\u001b[0m\u001b[0mallow_input_downcast\u001b[0m\u001b[0;34m)\u001b[0m \u001b[0;32mfor\u001b[0m \u001b[0mp\u001b[0m \u001b[0;32min\u001b[0m \u001b[0mparams\u001b[0m\u001b[0;34m\u001b[0m\u001b[0;34m\u001b[0m\u001b[0m\n\u001b[0m\u001b[1;32m    428\u001b[0m     ]\n\u001b[1;32m    429\u001b[0m \u001b[0;34m\u001b[0m\u001b[0m\n",
            "\u001b[0;32m/usr/local/lib/python3.7/dist-packages/theano/compile/function/pfunc.py\u001b[0m in \u001b[0;36m_pfunc_param_to_in\u001b[0;34m(param, strict, allow_downcast)\u001b[0m\n\u001b[1;32m    541\u001b[0m     \u001b[0;32melif\u001b[0m \u001b[0misinstance\u001b[0m\u001b[0;34m(\u001b[0m\u001b[0mparam\u001b[0m\u001b[0;34m,\u001b[0m \u001b[0mIn\u001b[0m\u001b[0;34m)\u001b[0m\u001b[0;34m:\u001b[0m\u001b[0;34m\u001b[0m\u001b[0;34m\u001b[0m\u001b[0m\n\u001b[1;32m    542\u001b[0m         \u001b[0;32mreturn\u001b[0m \u001b[0mparam\u001b[0m\u001b[0;34m\u001b[0m\u001b[0;34m\u001b[0m\u001b[0m\n\u001b[0;32m--> 543\u001b[0;31m     \u001b[0;32mraise\u001b[0m \u001b[0mTypeError\u001b[0m\u001b[0;34m(\u001b[0m\u001b[0;34mf\"Unknown parameter type: {type(param)}\"\u001b[0m\u001b[0;34m)\u001b[0m\u001b[0;34m\u001b[0m\u001b[0;34m\u001b[0m\u001b[0m\n\u001b[0m\u001b[1;32m    544\u001b[0m \u001b[0;34m\u001b[0m\u001b[0m\n\u001b[1;32m    545\u001b[0m \u001b[0;34m\u001b[0m\u001b[0m\n",
            "\u001b[0;31mTypeError\u001b[0m: Unknown parameter type: <class 'theano.tensor.var.TensorVariable'>"
          ]
        }
      ]
    },
    {
      "cell_type": "markdown",
      "source": [
        "# **TensorFlow Library**\n",
        "\n",
        "**Open source Library for Fast Numerical Computation**"
      ],
      "metadata": {
        "id": "aY5R6j1Ptxrh"
      }
    },
    {
      "cell_type": "code",
      "source": [
        "# example of TnsorFlow library\n",
        "import tensorflow as tf\n",
        "import tensorflow.compat.v1 as tf\n",
        "tf.disable_v2_behavior()\n",
        "# declare two symbolic floating-point scalars\n",
        "a = tf.placeholder(tf.float32)\n",
        "b = tf.placeholder(tf.float32)\n",
        "# create a simple symbolic expression using the add function\n",
        "add = tf.add(a, b)\n",
        "# bind 1.5 to 'a', 2.5 to 'b' and evaluate 'c'\n",
        "sess = tf.Session()\n",
        "binding = {a: 1.5, b: 2.5}\n",
        "c = sess.run(add, feed_dict=binding)\n",
        "print(c)"
      ],
      "metadata": {
        "colab": {
          "base_uri": "https://localhost:8080/"
        },
        "id": "DjpLBGJ9uMmU",
        "outputId": "2070f9d8-bf98-4752-cbad-e7d313983005"
      },
      "execution_count": null,
      "outputs": [
        {
          "output_type": "stream",
          "name": "stdout",
          "text": [
            "4.0\n"
          ]
        }
      ]
    },
    {
      "cell_type": "markdown",
      "source": [
        "# **KERAS**\n",
        "\n",
        "**Minimalist Python library for deep learning that can run on top of Theano or TensorFlow, abstracting their capabilities and hiding their complexity**"
      ],
      "metadata": {
        "id": "QkD8epfx1Qe8"
      }
    },
    {
      "cell_type": "markdown",
      "source": [
        "**Mulitlayer Perceptrons artificial neutral networks**"
      ],
      "metadata": {
        "id": "APUvZMLg4SY_"
      }
    },
    {
      "cell_type": "code",
      "source": [
        "!python -c \"from keras import backend; print(backend.backend())\""
      ],
      "metadata": {
        "colab": {
          "base_uri": "https://localhost:8080/"
        },
        "id": "LI4boE7a1jSz",
        "outputId": "b139ef6b-6b55-4fcd-9e8f-9fb6be22dc69"
      },
      "execution_count": null,
      "outputs": [
        {
          "output_type": "stream",
          "name": "stdout",
          "text": [
            "tensorflow\n"
          ]
        }
      ]
    },
    {
      "cell_type": "markdown",
      "source": [
        "# 1st Neural Network Example With Keras\n",
        "\n",
        "**Prima Indians Onset of Diabetes Dataset**"
      ],
      "metadata": {
        "id": "TTXlBQygtryN"
      }
    },
    {
      "cell_type": "code",
      "source": [
        "# first neural network example with Keras Tutorial\n",
        "import numpy as np\n",
        "from keras.models import Sequential\n",
        "from keras.layers import Dense\n",
        "from sklearn.model_selection import train_test_split\n",
        "from sklearn.metrics import accuracy_score\n",
        "\n",
        "# load dataset\n",
        "dataset = np.loadtxt('pima-indians-diabetes.data.csv', delimiter=',')\n",
        "X = dataset[:,0:8]\n",
        "y = dataset[:,8]\n",
        "# split data into train & test sets\n",
        "X_train, X_test, y_train, y_test = train_test_split(X, y, test_size=0.33, random_state=1964090101)\n",
        "\n",
        "# define the keras model\n",
        "# Dense (fully connected) netwok topology will be used\n",
        "# relu (rectifier) activation function on two layers\n",
        "# sigmoid activation function in the output layer - easy to map to 1 or 0 for probabilities or classifications\n",
        "model = Sequential()\n",
        "model.add(Dense(12, input_dim=8, activation='relu'))\n",
        "model.add(Dense(8, activation='relu'))\n",
        "model.add(Dense(1, activation='sigmoid'))\n",
        "# compile the keras model\n",
        "# Binary classification problem\n",
        "# Logarithmic loss = binary_crossentropy\n",
        "model.compile(loss='binary_crossentropy', optimizer='adam', metrics=['accuracy'])\n",
        "# Fit the model\n",
        "model.fit(X_train, y_train, epochs=150, batch_size=16)\n",
        "# predict\n",
        "predictions = model.predict(X_test)\n",
        "# evaluate the keras model\n",
        "_, accuracy = model.evaluate(X_test, y_test)\n",
        "print('Accuracy: %.2f' % (accuracy * 100))\n"
      ],
      "metadata": {
        "id": "s6CcLt_yuVSl",
        "outputId": "e171a8be-8f42-4a16-8568-5bbcf61c2ead",
        "colab": {
          "base_uri": "https://localhost:8080/"
        }
      },
      "execution_count": 30,
      "outputs": [
        {
          "output_type": "stream",
          "name": "stdout",
          "text": [
            "Epoch 1/150\n",
            "33/33 [==============================] - 1s 2ms/step - loss: 7.4708 - accuracy: 0.6187\n",
            "Epoch 2/150\n",
            "33/33 [==============================] - 0s 2ms/step - loss: 4.0580 - accuracy: 0.6323\n",
            "Epoch 3/150\n",
            "33/33 [==============================] - 0s 2ms/step - loss: 1.8879 - accuracy: 0.5603\n",
            "Epoch 4/150\n",
            "33/33 [==============================] - 0s 2ms/step - loss: 1.1658 - accuracy: 0.5078\n",
            "Epoch 5/150\n",
            "33/33 [==============================] - 0s 2ms/step - loss: 0.9460 - accuracy: 0.5759\n",
            "Epoch 6/150\n",
            "33/33 [==============================] - 0s 2ms/step - loss: 0.8151 - accuracy: 0.5895\n",
            "Epoch 7/150\n",
            "33/33 [==============================] - 0s 2ms/step - loss: 0.7379 - accuracy: 0.6070\n",
            "Epoch 8/150\n",
            "33/33 [==============================] - 0s 2ms/step - loss: 0.7106 - accuracy: 0.6284\n",
            "Epoch 9/150\n",
            "33/33 [==============================] - 0s 2ms/step - loss: 0.6984 - accuracy: 0.6381\n",
            "Epoch 10/150\n",
            "33/33 [==============================] - 0s 2ms/step - loss: 0.6959 - accuracy: 0.6556\n",
            "Epoch 11/150\n",
            "33/33 [==============================] - 0s 2ms/step - loss: 0.6919 - accuracy: 0.6537\n",
            "Epoch 12/150\n",
            "33/33 [==============================] - 0s 2ms/step - loss: 0.6896 - accuracy: 0.6537\n",
            "Epoch 13/150\n",
            "33/33 [==============================] - 0s 2ms/step - loss: 0.6886 - accuracy: 0.6518\n",
            "Epoch 14/150\n",
            "33/33 [==============================] - 0s 2ms/step - loss: 0.6842 - accuracy: 0.6518\n",
            "Epoch 15/150\n",
            "33/33 [==============================] - 0s 2ms/step - loss: 0.6789 - accuracy: 0.6615\n",
            "Epoch 16/150\n",
            "33/33 [==============================] - 0s 2ms/step - loss: 0.6785 - accuracy: 0.6673\n",
            "Epoch 17/150\n",
            "33/33 [==============================] - 0s 2ms/step - loss: 0.6748 - accuracy: 0.6673\n",
            "Epoch 18/150\n",
            "33/33 [==============================] - 0s 2ms/step - loss: 0.6709 - accuracy: 0.6634\n",
            "Epoch 19/150\n",
            "33/33 [==============================] - 0s 2ms/step - loss: 0.6698 - accuracy: 0.6693\n",
            "Epoch 20/150\n",
            "33/33 [==============================] - 0s 2ms/step - loss: 0.6676 - accuracy: 0.6634\n",
            "Epoch 21/150\n",
            "33/33 [==============================] - 0s 2ms/step - loss: 0.6656 - accuracy: 0.6615\n",
            "Epoch 22/150\n",
            "33/33 [==============================] - 0s 2ms/step - loss: 0.6636 - accuracy: 0.6654\n",
            "Epoch 23/150\n",
            "33/33 [==============================] - 0s 2ms/step - loss: 0.6622 - accuracy: 0.6693\n",
            "Epoch 24/150\n",
            "33/33 [==============================] - 0s 2ms/step - loss: 0.6615 - accuracy: 0.6673\n",
            "Epoch 25/150\n",
            "33/33 [==============================] - 0s 2ms/step - loss: 0.6584 - accuracy: 0.6693\n",
            "Epoch 26/150\n",
            "33/33 [==============================] - 0s 2ms/step - loss: 0.6590 - accuracy: 0.6693\n",
            "Epoch 27/150\n",
            "33/33 [==============================] - 0s 2ms/step - loss: 0.6568 - accuracy: 0.6732\n",
            "Epoch 28/150\n",
            "33/33 [==============================] - 0s 2ms/step - loss: 0.6528 - accuracy: 0.6673\n",
            "Epoch 29/150\n",
            "33/33 [==============================] - 0s 2ms/step - loss: 0.6529 - accuracy: 0.6732\n",
            "Epoch 30/150\n",
            "33/33 [==============================] - 0s 2ms/step - loss: 0.6526 - accuracy: 0.6732\n",
            "Epoch 31/150\n",
            "33/33 [==============================] - 0s 2ms/step - loss: 0.6488 - accuracy: 0.6809\n",
            "Epoch 32/150\n",
            "33/33 [==============================] - 0s 2ms/step - loss: 0.6475 - accuracy: 0.6673\n",
            "Epoch 33/150\n",
            "33/33 [==============================] - 0s 2ms/step - loss: 0.6461 - accuracy: 0.6712\n",
            "Epoch 34/150\n",
            "33/33 [==============================] - 0s 2ms/step - loss: 0.6454 - accuracy: 0.6673\n",
            "Epoch 35/150\n",
            "33/33 [==============================] - 0s 2ms/step - loss: 0.6463 - accuracy: 0.6693\n",
            "Epoch 36/150\n",
            "33/33 [==============================] - 0s 2ms/step - loss: 0.6422 - accuracy: 0.6693\n",
            "Epoch 37/150\n",
            "33/33 [==============================] - 0s 2ms/step - loss: 0.6388 - accuracy: 0.6770\n",
            "Epoch 38/150\n",
            "33/33 [==============================] - 0s 2ms/step - loss: 0.6361 - accuracy: 0.6693\n",
            "Epoch 39/150\n",
            "33/33 [==============================] - 0s 2ms/step - loss: 0.6345 - accuracy: 0.6732\n",
            "Epoch 40/150\n",
            "33/33 [==============================] - 0s 2ms/step - loss: 0.6339 - accuracy: 0.6848\n",
            "Epoch 41/150\n",
            "33/33 [==============================] - 0s 2ms/step - loss: 0.6330 - accuracy: 0.6770\n",
            "Epoch 42/150\n",
            "33/33 [==============================] - 0s 2ms/step - loss: 0.6306 - accuracy: 0.6868\n",
            "Epoch 43/150\n",
            "33/33 [==============================] - 0s 2ms/step - loss: 0.6267 - accuracy: 0.6693\n",
            "Epoch 44/150\n",
            "33/33 [==============================] - 0s 2ms/step - loss: 0.6239 - accuracy: 0.6770\n",
            "Epoch 45/150\n",
            "33/33 [==============================] - 0s 2ms/step - loss: 0.6255 - accuracy: 0.6790\n",
            "Epoch 46/150\n",
            "33/33 [==============================] - 0s 2ms/step - loss: 0.6227 - accuracy: 0.6809\n",
            "Epoch 47/150\n",
            "33/33 [==============================] - 0s 2ms/step - loss: 0.6199 - accuracy: 0.6790\n",
            "Epoch 48/150\n",
            "33/33 [==============================] - 0s 2ms/step - loss: 0.6185 - accuracy: 0.6848\n",
            "Epoch 49/150\n",
            "33/33 [==============================] - 0s 2ms/step - loss: 0.6171 - accuracy: 0.6790\n",
            "Epoch 50/150\n",
            "33/33 [==============================] - 0s 2ms/step - loss: 0.6163 - accuracy: 0.6868\n",
            "Epoch 51/150\n",
            "33/33 [==============================] - 0s 2ms/step - loss: 0.6134 - accuracy: 0.6848\n",
            "Epoch 52/150\n",
            "33/33 [==============================] - 0s 2ms/step - loss: 0.6132 - accuracy: 0.6829\n",
            "Epoch 53/150\n",
            "33/33 [==============================] - 0s 2ms/step - loss: 0.6088 - accuracy: 0.6926\n",
            "Epoch 54/150\n",
            "33/33 [==============================] - 0s 2ms/step - loss: 0.6075 - accuracy: 0.6907\n",
            "Epoch 55/150\n",
            "33/33 [==============================] - 0s 2ms/step - loss: 0.6124 - accuracy: 0.6907\n",
            "Epoch 56/150\n",
            "33/33 [==============================] - 0s 2ms/step - loss: 0.6070 - accuracy: 0.6887\n",
            "Epoch 57/150\n",
            "33/33 [==============================] - 0s 2ms/step - loss: 0.6067 - accuracy: 0.6926\n",
            "Epoch 58/150\n",
            "33/33 [==============================] - 0s 2ms/step - loss: 0.6035 - accuracy: 0.6965\n",
            "Epoch 59/150\n",
            "33/33 [==============================] - 0s 2ms/step - loss: 0.6045 - accuracy: 0.6868\n",
            "Epoch 60/150\n",
            "33/33 [==============================] - 0s 2ms/step - loss: 0.6001 - accuracy: 0.6984\n",
            "Epoch 61/150\n",
            "33/33 [==============================] - 0s 2ms/step - loss: 0.6005 - accuracy: 0.6946\n",
            "Epoch 62/150\n",
            "33/33 [==============================] - 0s 2ms/step - loss: 0.5960 - accuracy: 0.6829\n",
            "Epoch 63/150\n",
            "33/33 [==============================] - 0s 2ms/step - loss: 0.5960 - accuracy: 0.7004\n",
            "Epoch 64/150\n",
            "33/33 [==============================] - 0s 2ms/step - loss: 0.5938 - accuracy: 0.6984\n",
            "Epoch 65/150\n",
            "33/33 [==============================] - 0s 2ms/step - loss: 0.5921 - accuracy: 0.7062\n",
            "Epoch 66/150\n",
            "33/33 [==============================] - 0s 3ms/step - loss: 0.5904 - accuracy: 0.7082\n",
            "Epoch 67/150\n",
            "33/33 [==============================] - 0s 2ms/step - loss: 0.5906 - accuracy: 0.7004\n",
            "Epoch 68/150\n",
            "33/33 [==============================] - 0s 2ms/step - loss: 0.5901 - accuracy: 0.7043\n",
            "Epoch 69/150\n",
            "33/33 [==============================] - 0s 2ms/step - loss: 0.5877 - accuracy: 0.7023\n",
            "Epoch 70/150\n",
            "33/33 [==============================] - 0s 2ms/step - loss: 0.5880 - accuracy: 0.7004\n",
            "Epoch 71/150\n",
            "33/33 [==============================] - 0s 2ms/step - loss: 0.5895 - accuracy: 0.7004\n",
            "Epoch 72/150\n",
            "33/33 [==============================] - 0s 2ms/step - loss: 0.5888 - accuracy: 0.7043\n",
            "Epoch 73/150\n",
            "33/33 [==============================] - 0s 2ms/step - loss: 0.5899 - accuracy: 0.6926\n",
            "Epoch 74/150\n",
            "33/33 [==============================] - 0s 2ms/step - loss: 0.5826 - accuracy: 0.7160\n",
            "Epoch 75/150\n",
            "33/33 [==============================] - 0s 2ms/step - loss: 0.5836 - accuracy: 0.7062\n",
            "Epoch 76/150\n",
            "33/33 [==============================] - 0s 2ms/step - loss: 0.5907 - accuracy: 0.7004\n",
            "Epoch 77/150\n",
            "33/33 [==============================] - 0s 2ms/step - loss: 0.5874 - accuracy: 0.6946\n",
            "Epoch 78/150\n",
            "33/33 [==============================] - 0s 2ms/step - loss: 0.5825 - accuracy: 0.7198\n",
            "Epoch 79/150\n",
            "33/33 [==============================] - 0s 2ms/step - loss: 0.5802 - accuracy: 0.7082\n",
            "Epoch 80/150\n",
            "33/33 [==============================] - 0s 2ms/step - loss: 0.5802 - accuracy: 0.7140\n",
            "Epoch 81/150\n",
            "33/33 [==============================] - 0s 2ms/step - loss: 0.5795 - accuracy: 0.7023\n",
            "Epoch 82/150\n",
            "33/33 [==============================] - 0s 2ms/step - loss: 0.5751 - accuracy: 0.7218\n",
            "Epoch 83/150\n",
            "33/33 [==============================] - 0s 2ms/step - loss: 0.5785 - accuracy: 0.6984\n",
            "Epoch 84/150\n",
            "33/33 [==============================] - 0s 2ms/step - loss: 0.5753 - accuracy: 0.7160\n",
            "Epoch 85/150\n",
            "33/33 [==============================] - 0s 2ms/step - loss: 0.5764 - accuracy: 0.7140\n",
            "Epoch 86/150\n",
            "33/33 [==============================] - 0s 2ms/step - loss: 0.5742 - accuracy: 0.7257\n",
            "Epoch 87/150\n",
            "33/33 [==============================] - 0s 2ms/step - loss: 0.5698 - accuracy: 0.7160\n",
            "Epoch 88/150\n",
            "33/33 [==============================] - 0s 2ms/step - loss: 0.5799 - accuracy: 0.7023\n",
            "Epoch 89/150\n",
            "33/33 [==============================] - 0s 2ms/step - loss: 0.5697 - accuracy: 0.7237\n",
            "Epoch 90/150\n",
            "33/33 [==============================] - 0s 2ms/step - loss: 0.5702 - accuracy: 0.7121\n",
            "Epoch 91/150\n",
            "33/33 [==============================] - 0s 2ms/step - loss: 0.5810 - accuracy: 0.7101\n",
            "Epoch 92/150\n",
            "33/33 [==============================] - 0s 2ms/step - loss: 0.5745 - accuracy: 0.7082\n",
            "Epoch 93/150\n",
            "33/33 [==============================] - 0s 2ms/step - loss: 0.5688 - accuracy: 0.7062\n",
            "Epoch 94/150\n",
            "33/33 [==============================] - 0s 2ms/step - loss: 0.5645 - accuracy: 0.7140\n",
            "Epoch 95/150\n",
            "33/33 [==============================] - 0s 2ms/step - loss: 0.5639 - accuracy: 0.7237\n",
            "Epoch 96/150\n",
            "33/33 [==============================] - 0s 2ms/step - loss: 0.5646 - accuracy: 0.7121\n",
            "Epoch 97/150\n",
            "33/33 [==============================] - 0s 2ms/step - loss: 0.5706 - accuracy: 0.7082\n",
            "Epoch 98/150\n",
            "33/33 [==============================] - 0s 2ms/step - loss: 0.5618 - accuracy: 0.7160\n",
            "Epoch 99/150\n",
            "33/33 [==============================] - 0s 2ms/step - loss: 0.5635 - accuracy: 0.7276\n",
            "Epoch 100/150\n",
            "33/33 [==============================] - 0s 2ms/step - loss: 0.5634 - accuracy: 0.7140\n",
            "Epoch 101/150\n",
            "33/33 [==============================] - 0s 2ms/step - loss: 0.5621 - accuracy: 0.7335\n",
            "Epoch 102/150\n",
            "33/33 [==============================] - 0s 2ms/step - loss: 0.5621 - accuracy: 0.7218\n",
            "Epoch 103/150\n",
            "33/33 [==============================] - 0s 2ms/step - loss: 0.5595 - accuracy: 0.7160\n",
            "Epoch 104/150\n",
            "33/33 [==============================] - 0s 2ms/step - loss: 0.5656 - accuracy: 0.7257\n",
            "Epoch 105/150\n",
            "33/33 [==============================] - 0s 2ms/step - loss: 0.5628 - accuracy: 0.7179\n",
            "Epoch 106/150\n",
            "33/33 [==============================] - 0s 2ms/step - loss: 0.5590 - accuracy: 0.7218\n",
            "Epoch 107/150\n",
            "33/33 [==============================] - 0s 2ms/step - loss: 0.5594 - accuracy: 0.7121\n",
            "Epoch 108/150\n",
            "33/33 [==============================] - 0s 2ms/step - loss: 0.5547 - accuracy: 0.7257\n",
            "Epoch 109/150\n",
            "33/33 [==============================] - 0s 2ms/step - loss: 0.5612 - accuracy: 0.7160\n",
            "Epoch 110/150\n",
            "33/33 [==============================] - 0s 2ms/step - loss: 0.5551 - accuracy: 0.7198\n",
            "Epoch 111/150\n",
            "33/33 [==============================] - 0s 2ms/step - loss: 0.5586 - accuracy: 0.7082\n",
            "Epoch 112/150\n",
            "33/33 [==============================] - 0s 2ms/step - loss: 0.5567 - accuracy: 0.7237\n",
            "Epoch 113/150\n",
            "33/33 [==============================] - 0s 2ms/step - loss: 0.5516 - accuracy: 0.7198\n",
            "Epoch 114/150\n",
            "33/33 [==============================] - 0s 2ms/step - loss: 0.5496 - accuracy: 0.7296\n",
            "Epoch 115/150\n",
            "33/33 [==============================] - 0s 2ms/step - loss: 0.5553 - accuracy: 0.7237\n",
            "Epoch 116/150\n",
            "33/33 [==============================] - 0s 2ms/step - loss: 0.5549 - accuracy: 0.7218\n",
            "Epoch 117/150\n",
            "33/33 [==============================] - 0s 2ms/step - loss: 0.5639 - accuracy: 0.7198\n",
            "Epoch 118/150\n",
            "33/33 [==============================] - 0s 2ms/step - loss: 0.5584 - accuracy: 0.7237\n",
            "Epoch 119/150\n",
            "33/33 [==============================] - 0s 2ms/step - loss: 0.5545 - accuracy: 0.7276\n",
            "Epoch 120/150\n",
            "33/33 [==============================] - 0s 2ms/step - loss: 0.5569 - accuracy: 0.7160\n",
            "Epoch 121/150\n",
            "33/33 [==============================] - 0s 2ms/step - loss: 0.5741 - accuracy: 0.7121\n",
            "Epoch 122/150\n",
            "33/33 [==============================] - 0s 2ms/step - loss: 0.5504 - accuracy: 0.7179\n",
            "Epoch 123/150\n",
            "33/33 [==============================] - 0s 2ms/step - loss: 0.5451 - accuracy: 0.7335\n",
            "Epoch 124/150\n",
            "33/33 [==============================] - 0s 2ms/step - loss: 0.5454 - accuracy: 0.7257\n",
            "Epoch 125/150\n",
            "33/33 [==============================] - 0s 2ms/step - loss: 0.5479 - accuracy: 0.7218\n",
            "Epoch 126/150\n",
            "33/33 [==============================] - 0s 2ms/step - loss: 0.5464 - accuracy: 0.7276\n",
            "Epoch 127/150\n",
            "33/33 [==============================] - 0s 2ms/step - loss: 0.5456 - accuracy: 0.7335\n",
            "Epoch 128/150\n",
            "33/33 [==============================] - 0s 2ms/step - loss: 0.5448 - accuracy: 0.7296\n",
            "Epoch 129/150\n",
            "33/33 [==============================] - 0s 2ms/step - loss: 0.5451 - accuracy: 0.7179\n",
            "Epoch 130/150\n",
            "33/33 [==============================] - 0s 2ms/step - loss: 0.5524 - accuracy: 0.7237\n",
            "Epoch 131/150\n",
            "33/33 [==============================] - 0s 2ms/step - loss: 0.5432 - accuracy: 0.7237\n",
            "Epoch 132/150\n",
            "33/33 [==============================] - 0s 2ms/step - loss: 0.5486 - accuracy: 0.7237\n",
            "Epoch 133/150\n",
            "33/33 [==============================] - 0s 2ms/step - loss: 0.5414 - accuracy: 0.7315\n",
            "Epoch 134/150\n",
            "33/33 [==============================] - 0s 2ms/step - loss: 0.5434 - accuracy: 0.7315\n",
            "Epoch 135/150\n",
            "33/33 [==============================] - 0s 2ms/step - loss: 0.5428 - accuracy: 0.7354\n",
            "Epoch 136/150\n",
            "33/33 [==============================] - 0s 2ms/step - loss: 0.5391 - accuracy: 0.7374\n",
            "Epoch 137/150\n",
            "33/33 [==============================] - 0s 2ms/step - loss: 0.5469 - accuracy: 0.7101\n",
            "Epoch 138/150\n",
            "33/33 [==============================] - 0s 2ms/step - loss: 0.5393 - accuracy: 0.7354\n",
            "Epoch 139/150\n",
            "33/33 [==============================] - 0s 2ms/step - loss: 0.5527 - accuracy: 0.7335\n",
            "Epoch 140/150\n",
            "33/33 [==============================] - 0s 2ms/step - loss: 0.5501 - accuracy: 0.7160\n",
            "Epoch 141/150\n",
            "33/33 [==============================] - 0s 2ms/step - loss: 0.5422 - accuracy: 0.7315\n",
            "Epoch 142/150\n",
            "33/33 [==============================] - 0s 2ms/step - loss: 0.5365 - accuracy: 0.7451\n",
            "Epoch 143/150\n",
            "33/33 [==============================] - 0s 2ms/step - loss: 0.5494 - accuracy: 0.7257\n",
            "Epoch 144/150\n",
            "33/33 [==============================] - 0s 2ms/step - loss: 0.5408 - accuracy: 0.7198\n",
            "Epoch 145/150\n",
            "33/33 [==============================] - 0s 2ms/step - loss: 0.5365 - accuracy: 0.7335\n",
            "Epoch 146/150\n",
            "33/33 [==============================] - 0s 2ms/step - loss: 0.5440 - accuracy: 0.7276\n",
            "Epoch 147/150\n",
            "33/33 [==============================] - 0s 2ms/step - loss: 0.5423 - accuracy: 0.7296\n",
            "Epoch 148/150\n",
            "33/33 [==============================] - 0s 2ms/step - loss: 0.5350 - accuracy: 0.7276\n",
            "Epoch 149/150\n",
            "33/33 [==============================] - 0s 2ms/step - loss: 0.5354 - accuracy: 0.7315\n",
            "Epoch 150/150\n",
            "33/33 [==============================] - 0s 2ms/step - loss: 0.5443 - accuracy: 0.7140\n",
            "8/8 [==============================] - 0s 2ms/step - loss: 0.6259 - accuracy: 0.6850\n",
            "Accuracy: 68.50\n"
          ]
        }
      ]
    }
  ]
}